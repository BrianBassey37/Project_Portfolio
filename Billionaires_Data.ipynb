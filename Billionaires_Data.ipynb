{
 "cells": [
  {
   "cell_type": "markdown",
   "metadata": {},
   "source": [
    "# Project Overview: Indian Startup Ecosystem Analysis"
   ]
  },
  {
   "cell_type": "markdown",
   "metadata": {},
   "source": [
    "The objective of the project is to analyze and understand the dynamics of the Indian startup ecosystem. This involves processing and cleaning datasets related to startup funding, which includes information about the companies, sectors, funding amounts, and other relevant details"
   ]
  },
  {
   "cell_type": "markdown",
   "metadata": {},
   "source": [
    "# Key Tasks"
   ]
  },
  {
   "cell_type": "markdown",
   "metadata": {},
   "source": [
    "Data Cleaning and Preprocessing:\n",
    "\n",
    "Importing necessary libraries such as Pandas, NumPy, and Seaborn.\n",
    "Reading CSV files containing startup funding data.\n",
    "Cleaning data by handling missing values, converting data types, and addressing encoding issues.\n",
    "\n",
    "Exploratory Data Analysis (EDA):\n",
    "\n",
    "Exploring and visualizing the data to gain insights.\n",
    "Handling and visualizing categorical data like sectors, locations, and funding stages.\n",
    "Creating summary statistics and plots to understand funding trends over the years.\n",
    "\n",
    "Feature Engineering:\n",
    "\n",
    "Creating new columns or modifying existing ones based on project requirements. For example, converting currency, merging columns, or grouping similar categories.\n",
    "\n",
    "Data Transformation:\n",
    "\n",
    "Transforming data, such as converting currency values or dealing with exponential values.\n",
    "Normalizing or standardizing data for better analysis.\n",
    "\n",
    "Data Analysis:\n",
    "\n",
    "Analyzing the funding trends, identifying top sectors and locations, and understanding funding patterns across different years.\n",
    "\n",
    "Visualization:\n",
    "\n",
    "Creating visualizations using Matplotlib and Seaborn to represent key findings.\n",
    "Saving visualizations as image files for documentation or presentations.\n",
    "\n",
    "Project Documentation:\n",
    "\n",
    "Documenting code with comments for clarity and maintainability.\n",
    "Providing explanations for data transformations and analysis steps.\n",
    "Creating a clear output file path for saving visualizations."
   ]
  },
  {
   "cell_type": "markdown",
   "metadata": {},
   "source": [
    "# Basic Tasks"
   ]
  },
  {
   "cell_type": "markdown",
   "metadata": {},
   "source": [
    "Handling Currency Conversion:\n",
    "\n",
    "Converting Indian Rupees (₹) to US Dollars ($).\n",
    "\n",
    "Merging Columns:\n",
    "\n",
    "Merging 'Company_Brand' and 'ï»¿Company/Brand' into one column named 'Company_Brand'.\n",
    "\n",
    "Dropping Columns:\n",
    "\n",
    "Dropping unnecessary columns or those created during intermediate steps.\n",
    "\n",
    "Handling City Names:\n",
    "\n",
    "Cleaning and standardizing city names in the dataset.\n",
    "\n",
    "Sector and Stage Grouping:\n",
    "\n",
    "Grouping similar sectors and startup stages for better analysis."
   ]
  },
  {
   "cell_type": "markdown",
   "metadata": {},
   "source": [
    "# Overall Approach"
   ]
  },
  {
   "cell_type": "markdown",
   "metadata": {},
   "source": [
    "The approach has been modular, focusing on one task at a time, and making corrections based on feedback or issues encountered. This helps in maintaining a structured and organized workflow.\n",
    "\n"
   ]
  },
  {
   "cell_type": "markdown",
   "metadata": {},
   "source": [
    "# Hypothesis"
   ]
  },
  {
   "cell_type": "markdown",
   "metadata": {},
   "source": [
    "Hypothesis 1: The total funding amount for Indian startups has increased over the past few years with 2021 having the higest funding.\n",
    "\n",
    "Hypothesis 2: Technology sector received more funding compared to others.\n",
    "\n",
    "Hypothesis 3: There is a correlation between the funding amount and the stage of startup development."
   ]
  },
  {
   "cell_type": "markdown",
   "metadata": {},
   "source": [
    "# Business understanding and Analytical questions"
   ]
  },
  {
   "cell_type": "markdown",
   "metadata": {},
   "source": [
    "### 1. Funding Growth Analysis\n",
    "\n",
    "Question:\n",
    "How has the total funding amount for Indian startups evolved over the past years?\n",
    "\n",
    "Analysis:\n",
    "![Funding Growth Chart](C:\\\\Users\\\\USER\\\\Desktop\\\\Billionaire data Set\\\\HeadQuarter_Counts_Plot.png)\n",
    "Observations:\n",
    "- Overall funding has shown a steady increase, with a significant spike in 2021.\n",
    "\n",
    "---\n",
    "\n",
    "### 2. Sector-wise Funding Distribution\n",
    "\n",
    "Question:\n",
    "Which sectors receive the highest funding, and how has this distribution changed over time?\n",
    "\n",
    "Analysis:\n",
    "![Sector-wise Funding Distribution](C:\\\\Users\\\\USER\\\\Desktop\\\\Billionaire data Set\\\\Top_10_Headquarter_Counts_Plot.png)\n",
    "Observations:\n",
    "- Technology sectors consistently dominate funding.\n",
    "\n",
    "---\n",
    "\n",
    "### 3. Stage-wise Funding Comparison\n",
    "\n",
    "Question:\n",
    "Is there a difference in funding amounts between different stages of startup development?\n",
    "\n",
    "Analysis:\n",
    "![Stage-wise Funding Comparison](C:\\\\Users\\\\USER\\\\Desktop\\\\Billionaire data Set\\\\Top_10_Sectors_Plot.png)\n",
    "Observations:\n",
    "- Series funding has a higher average compared to Seed and other stages.\n",
    "\n",
    "---\n",
    "\n",
    "### 4. Top Headquarter Locations\n",
    "\n",
    "Question:\n",
    "What are the top locations (headquarters) for startups receiving funding, and has this distribution changed?\n",
    "\n",
    "Analysis:\n",
    "![Top Headquarter Locations](C:\\\\Users\\\\USER\\\\Desktop\\\\Billionaire data Set\\\\Total_Startup_Funding_Plot.png)\n",
    "Observations:\n",
    "- Bangalore, Mumbai, and Delhi consistently rank as the top locations for startup funding.\n",
    "\n",
    "---\n",
    "\n",
    "### 5. Correlation Analysis\n",
    "\n",
    "Question:\n",
    "Is there a correlation between the funding amount and the reported company valuation?\n",
    "\n",
    "Analysis:\n",
    "![Correlation Analysis](C:\\\\Users\\\\USER\\\\Desktop\\\\Billionaire data Set\\\\Funding_Trend_Plot.png)\n",
    "Observations:\n",
    "- A moderate positive correlation exists between funding amount and company valuation.\n",
    "\n",
    "---\n",
    "\n",
    "### Conclusion\n",
    "The Indian startup ecosystem is experiencing positive growth, with a diversification of sectors attracting funding. Series funding stages and specific geographical locations continue to play crucial roles in shaping the funding landscape. The correlation between funding and company valuation underscores the importance of strategic investments in driving startup success."
   ]
  },
  {
   "cell_type": "markdown",
   "metadata": {},
   "source": [
    "#  Step 1"
   ]
  },
  {
   "cell_type": "markdown",
   "metadata": {},
   "source": [
    "Importing the needed liberaries and the data for the project "
   ]
  },
  {
   "cell_type": "code",
   "execution_count": 2,
   "metadata": {},
   "outputs": [],
   "source": [
    "# Neccesary liberaries\n",
    "import pyodbc\n",
    "from dotenv import dotenv_values\n",
    "import pandas as pd\n",
    "import numpy as np\n",
    "from scipy import stats\n",
    "import statistics as stat\n",
    "import warnings\n",
    "import os\n",
    "import matplotlib.pyplot as plt\n",
    "import seaborn as sns\n",
    "\n",
    " \n",
    "warnings.filterwarnings('ignore')"
   ]
  },
  {
   "cell_type": "code",
   "execution_count": 3,
   "metadata": {},
   "outputs": [],
   "source": [
    "file_directory = 'C:\\\\Users\\\\USER\\\\Desktop\\\\Billionaire data Set'\n",
    "data_files = [file for file in os.listdir(file_directory) if file.endswith('.csv')]\n",
    "data_2018 = pd.read_csv('C:\\\\Users\\\\USER\\\\Desktop\\\\Billionaire data Set\\\\startup_funding_2018.csv', encoding='latin-1')\n",
    "data_2019 = pd.read_csv('C:\\\\Users\\\\USER\\\\Desktop\\\\Billionaire data Set\\\\startup_funding_2019.csv', encoding='latin-1')\n",
    "data_2020 = pd.read_csv('C:\\\\Users\\\\USER\\\\Desktop\\\\Billionaire data Set\\\\startup_funding_2020.csv', encoding='latin-1')\n",
    "data_2021 = pd.read_csv('C:\\\\Users\\\\USER\\\\Desktop\\\\Billionaire data Set\\\\startup_funding_2021.csv', encoding='latin-1')\n"
   ]
  },
  {
   "cell_type": "code",
   "execution_count": 4,
   "metadata": {},
   "outputs": [],
   "source": [
    "# to add year column to all the imported data\n",
    "data_2018['Year']='2018'\n",
    "data_2019['Year']='2019'\n",
    "data_2020['Year']='2020'\n",
    "data_2021['Year']='2021'"
   ]
  },
  {
   "cell_type": "markdown",
   "metadata": {},
   "source": [
    "#  Step 2"
   ]
  },
  {
   "cell_type": "markdown",
   "metadata": {},
   "source": [
    "cleaning and concating the two CSV files 2018 and 2019"
   ]
  },
  {
   "cell_type": "code",
   "execution_count": 5,
   "metadata": {},
   "outputs": [],
   "source": [
    "# Drop the Colunms that we may not need for the project\n",
    "\n",
    "data_2019.drop(['Founded', 'Founders', 'Investor'], axis=1, inplace=True)"
   ]
  },
  {
   "cell_type": "code",
   "execution_count": 6,
   "metadata": {},
   "outputs": [
    {
     "data": {
      "text/plain": [
       "ï»¿Company/Brand    object\n",
       "HeadQuarter         object\n",
       "Sector              object\n",
       "What it does        object\n",
       "Amount($)           object\n",
       "Stage               object\n",
       "Year                object\n",
       "dtype: object"
      ]
     },
     "execution_count": 6,
     "metadata": {},
     "output_type": "execute_result"
    }
   ],
   "source": [
    "data_2019.dtypes"
   ]
  },
  {
   "cell_type": "code",
   "execution_count": 80,
   "metadata": {},
   "outputs": [],
   "source": [
    "# Select specific columns and rename them\n",
    "\n",
    "data_2018 = data_2018.rename(columns={'ï»¿Company/Brand': 'Company_Brand', 'Round/Series': 'Stage', 'Industry': 'Sector', 'Amount': 'Amount', 'About Company': 'BIO', 'Location':'HeadQuarter'})\n",
    "data_2019 = data_2019.rename(columns={'ï»¿Company/Brand' : 'Company_Brand', 'Sector': 'Sector', 'Stage': 'Stage', 'Amount($)': 'Amount', 'What it does': 'BIO', 'HeadQuarter':'HeadQuarter'})"
   ]
  },
  {
   "cell_type": "markdown",
   "metadata": {},
   "source": [
    "Hamornizing the stage column in 2018 & 2019"
   ]
  },
  {
   "cell_type": "code",
   "execution_count": 8,
   "metadata": {},
   "outputs": [
    {
     "data": {
      "text/html": [
       "<div>\n",
       "<style scoped>\n",
       "    .dataframe tbody tr th:only-of-type {\n",
       "        vertical-align: middle;\n",
       "    }\n",
       "\n",
       "    .dataframe tbody tr th {\n",
       "        vertical-align: top;\n",
       "    }\n",
       "\n",
       "    .dataframe thead th {\n",
       "        text-align: right;\n",
       "    }\n",
       "</style>\n",
       "<table border=\"1\" class=\"dataframe\">\n",
       "  <thead>\n",
       "    <tr style=\"text-align: right;\">\n",
       "      <th></th>\n",
       "      <th>Company_Brand</th>\n",
       "      <th>Sector</th>\n",
       "      <th>Series</th>\n",
       "      <th>Amount</th>\n",
       "      <th>HeadQuarter</th>\n",
       "      <th>BIO</th>\n",
       "      <th>Year</th>\n",
       "    </tr>\n",
       "  </thead>\n",
       "  <tbody>\n",
       "    <tr>\n",
       "      <th>0</th>\n",
       "      <td>TheCollegeFever</td>\n",
       "      <td>Brand Marketing, Event Promotion, Marketing, S...</td>\n",
       "      <td>Seed</td>\n",
       "      <td>250000</td>\n",
       "      <td>Bangalore, Karnataka, India</td>\n",
       "      <td>TheCollegeFever is a hub for fun, fiesta and f...</td>\n",
       "      <td>2018</td>\n",
       "    </tr>\n",
       "    <tr>\n",
       "      <th>1</th>\n",
       "      <td>Happy Cow Dairy</td>\n",
       "      <td>Agriculture, Farming</td>\n",
       "      <td>Seed</td>\n",
       "      <td>?40,000,000</td>\n",
       "      <td>Mumbai, Maharashtra, India</td>\n",
       "      <td>A startup which aggregates milk from dairy far...</td>\n",
       "      <td>2018</td>\n",
       "    </tr>\n",
       "    <tr>\n",
       "      <th>2</th>\n",
       "      <td>MyLoanCare</td>\n",
       "      <td>Credit, Financial Services, Lending, Marketplace</td>\n",
       "      <td>Series A</td>\n",
       "      <td>?65,000,000</td>\n",
       "      <td>Gurgaon, Haryana, India</td>\n",
       "      <td>Leading Online Loans Marketplace in India</td>\n",
       "      <td>2018</td>\n",
       "    </tr>\n",
       "    <tr>\n",
       "      <th>3</th>\n",
       "      <td>PayMe India</td>\n",
       "      <td>Financial Services, FinTech</td>\n",
       "      <td>Angel</td>\n",
       "      <td>2000000</td>\n",
       "      <td>Noida, Uttar Pradesh, India</td>\n",
       "      <td>PayMe India is an innovative FinTech organizat...</td>\n",
       "      <td>2018</td>\n",
       "    </tr>\n",
       "    <tr>\n",
       "      <th>4</th>\n",
       "      <td>Eunimart</td>\n",
       "      <td>E-Commerce Platforms, Retail, SaaS</td>\n",
       "      <td>Seed</td>\n",
       "      <td></td>\n",
       "      <td>Hyderabad, Andhra Pradesh, India</td>\n",
       "      <td>Eunimart is a one stop solution for merchants ...</td>\n",
       "      <td>2018</td>\n",
       "    </tr>\n",
       "  </tbody>\n",
       "</table>\n",
       "</div>"
      ],
      "text/plain": [
       "     Company_Brand                                             Sector  \\\n",
       "0  TheCollegeFever  Brand Marketing, Event Promotion, Marketing, S...   \n",
       "1  Happy Cow Dairy                               Agriculture, Farming   \n",
       "2       MyLoanCare   Credit, Financial Services, Lending, Marketplace   \n",
       "3      PayMe India                        Financial Services, FinTech   \n",
       "4         Eunimart                 E-Commerce Platforms, Retail, SaaS   \n",
       "\n",
       "     Series       Amount                       HeadQuarter  \\\n",
       "0      Seed       250000       Bangalore, Karnataka, India   \n",
       "1      Seed  ?40,000,000        Mumbai, Maharashtra, India   \n",
       "2  Series A  ?65,000,000           Gurgaon, Haryana, India   \n",
       "3     Angel      2000000       Noida, Uttar Pradesh, India   \n",
       "4      Seed              Hyderabad, Andhra Pradesh, India   \n",
       "\n",
       "                                                 BIO  Year  \n",
       "0  TheCollegeFever is a hub for fun, fiesta and f...  2018  \n",
       "1  A startup which aggregates milk from dairy far...  2018  \n",
       "2          Leading Online Loans Marketplace in India  2018  \n",
       "3  PayMe India is an innovative FinTech organizat...  2018  \n",
       "4  Eunimart is a one stop solution for merchants ...  2018  "
      ]
     },
     "execution_count": 8,
     "metadata": {},
     "output_type": "execute_result"
    }
   ],
   "source": [
    "data_2018.head()"
   ]
  },
  {
   "cell_type": "markdown",
   "metadata": {},
   "source": [
    "<b>Harmonising the HeadQuater/Location column entries in 2018&2019 data.<b>"
   ]
  },
  {
   "cell_type": "code",
   "execution_count": 9,
   "metadata": {},
   "outputs": [],
   "source": [
    "# code to sparete the headquarters in 2018 because the columns contain more than one headquarter which will affect the analysis\n",
    "data_2018_new=data_2018['HeadQuarter'].str.split(pat=',', n=1, expand=True) \n",
    "data_2018['Head']=data_2018_new[0]"
   ]
  },
  {
   "cell_type": "code",
   "execution_count": 10,
   "metadata": {},
   "outputs": [],
   "source": [
    "# drop headquarter column\n",
    "data_2018.drop(['HeadQuarter'], axis=1, inplace=True)\n",
    "# rename the head column\n",
    "data_2018.rename(columns={'Head':'HeadQuarter'}, inplace=True)"
   ]
  },
  {
   "cell_type": "code",
   "execution_count": 11,
   "metadata": {},
   "outputs": [],
   "source": [
    "# data cleaning of headquarter in 2018\n",
    "data_2018.replace(to_replace=['Bangalore City','Bangalore'], value='Bangalore', inplace=True)\n",
    "data_2018.replace(to_replace=['Delhi','New Delhi'], value='Delhi', inplace=True)\n",
    "data_2018.replace(to_replace=['Cochin'], value='Kochi', inplace=True)\n",
    "data_2018.replace(to_replace=['Kormangala'], value='Koramangala', inplace=True)\n",
    "data_2018.replace(to_replace=['Powai','Worli'], value='Mumbai', inplace=True)\n",
    "data_2018.replace(to_replace=['Uttar Pradesh', 'Andhra Pradesh'], value='Andhra Pradesh', inplace=True)\n",
    "data_2018.replace(to_replace=['Trivandrum', 'India'], value='Trivandrum', inplace=True)\n",
    "\n",
    "\n",
    "# data cleaning of headquarter in 2019\n",
    "data_2019.replace(to_replace=['Delhi','New Delhi'], value='Delhi', inplace=True)\n"
   ]
  },
  {
   "cell_type": "code",
   "execution_count": 84,
   "metadata": {},
   "outputs": [
    {
     "ename": "KeyError",
     "evalue": "'Amount($)'",
     "output_type": "error",
     "traceback": [
      "\u001b[1;31m---------------------------------------------------------------------------\u001b[0m",
      "\u001b[1;31mKeyError\u001b[0m                                  Traceback (most recent call last)",
      "File \u001b[1;32mc:\\Users\\USER\\AppData\\Local\\Programs\\Python\\Python310\\lib\\site-packages\\pandas\\core\\indexes\\base.py:3790\u001b[0m, in \u001b[0;36mIndex.get_loc\u001b[1;34m(self, key)\u001b[0m\n\u001b[0;32m   3789\u001b[0m \u001b[39mtry\u001b[39;00m:\n\u001b[1;32m-> 3790\u001b[0m     \u001b[39mreturn\u001b[39;00m \u001b[39mself\u001b[39;49m\u001b[39m.\u001b[39;49m_engine\u001b[39m.\u001b[39;49mget_loc(casted_key)\n\u001b[0;32m   3791\u001b[0m \u001b[39mexcept\u001b[39;00m \u001b[39mKeyError\u001b[39;00m \u001b[39mas\u001b[39;00m err:\n",
      "File \u001b[1;32mindex.pyx:152\u001b[0m, in \u001b[0;36mpandas._libs.index.IndexEngine.get_loc\u001b[1;34m()\u001b[0m\n",
      "File \u001b[1;32mindex.pyx:181\u001b[0m, in \u001b[0;36mpandas._libs.index.IndexEngine.get_loc\u001b[1;34m()\u001b[0m\n",
      "File \u001b[1;32mpandas\\_libs\\hashtable_class_helper.pxi:7080\u001b[0m, in \u001b[0;36mpandas._libs.hashtable.PyObjectHashTable.get_item\u001b[1;34m()\u001b[0m\n",
      "File \u001b[1;32mpandas\\_libs\\hashtable_class_helper.pxi:7088\u001b[0m, in \u001b[0;36mpandas._libs.hashtable.PyObjectHashTable.get_item\u001b[1;34m()\u001b[0m\n",
      "\u001b[1;31mKeyError\u001b[0m: 'Amount($)'",
      "\nThe above exception was the direct cause of the following exception:\n",
      "\u001b[1;31mKeyError\u001b[0m                                  Traceback (most recent call last)",
      "\u001b[1;32mc:\\Users\\USER\\Desktop\\Project_Portfolio\\Project_Portfolio\\Billionaires_Data.ipynb Cell 29\u001b[0m line \u001b[0;36m1\n\u001b[1;32m----> <a href='vscode-notebook-cell:/c%3A/Users/USER/Desktop/Project_Portfolio/Project_Portfolio/Billionaires_Data.ipynb#Y225sZmlsZQ%3D%3D?line=0'>1</a>\u001b[0m data_2019[\u001b[39m'\u001b[39m\u001b[39mAmount($)\u001b[39m\u001b[39m'\u001b[39m] \u001b[39m=\u001b[39m pd\u001b[39m.\u001b[39mto_numeric(data_2019[\u001b[39m'\u001b[39;49m\u001b[39mAmount($)\u001b[39;49m\u001b[39m'\u001b[39;49m], errors\u001b[39m=\u001b[39m\u001b[39m'\u001b[39m\u001b[39mcoerce\u001b[39m\u001b[39m'\u001b[39m)\n",
      "File \u001b[1;32mc:\\Users\\USER\\AppData\\Local\\Programs\\Python\\Python310\\lib\\site-packages\\pandas\\core\\frame.py:3893\u001b[0m, in \u001b[0;36mDataFrame.__getitem__\u001b[1;34m(self, key)\u001b[0m\n\u001b[0;32m   3891\u001b[0m \u001b[39mif\u001b[39;00m \u001b[39mself\u001b[39m\u001b[39m.\u001b[39mcolumns\u001b[39m.\u001b[39mnlevels \u001b[39m>\u001b[39m \u001b[39m1\u001b[39m:\n\u001b[0;32m   3892\u001b[0m     \u001b[39mreturn\u001b[39;00m \u001b[39mself\u001b[39m\u001b[39m.\u001b[39m_getitem_multilevel(key)\n\u001b[1;32m-> 3893\u001b[0m indexer \u001b[39m=\u001b[39m \u001b[39mself\u001b[39;49m\u001b[39m.\u001b[39;49mcolumns\u001b[39m.\u001b[39;49mget_loc(key)\n\u001b[0;32m   3894\u001b[0m \u001b[39mif\u001b[39;00m is_integer(indexer):\n\u001b[0;32m   3895\u001b[0m     indexer \u001b[39m=\u001b[39m [indexer]\n",
      "File \u001b[1;32mc:\\Users\\USER\\AppData\\Local\\Programs\\Python\\Python310\\lib\\site-packages\\pandas\\core\\indexes\\base.py:3797\u001b[0m, in \u001b[0;36mIndex.get_loc\u001b[1;34m(self, key)\u001b[0m\n\u001b[0;32m   3792\u001b[0m     \u001b[39mif\u001b[39;00m \u001b[39misinstance\u001b[39m(casted_key, \u001b[39mslice\u001b[39m) \u001b[39mor\u001b[39;00m (\n\u001b[0;32m   3793\u001b[0m         \u001b[39misinstance\u001b[39m(casted_key, abc\u001b[39m.\u001b[39mIterable)\n\u001b[0;32m   3794\u001b[0m         \u001b[39mand\u001b[39;00m \u001b[39many\u001b[39m(\u001b[39misinstance\u001b[39m(x, \u001b[39mslice\u001b[39m) \u001b[39mfor\u001b[39;00m x \u001b[39min\u001b[39;00m casted_key)\n\u001b[0;32m   3795\u001b[0m     ):\n\u001b[0;32m   3796\u001b[0m         \u001b[39mraise\u001b[39;00m InvalidIndexError(key)\n\u001b[1;32m-> 3797\u001b[0m     \u001b[39mraise\u001b[39;00m \u001b[39mKeyError\u001b[39;00m(key) \u001b[39mfrom\u001b[39;00m \u001b[39merr\u001b[39;00m\n\u001b[0;32m   3798\u001b[0m \u001b[39mexcept\u001b[39;00m \u001b[39mTypeError\u001b[39;00m:\n\u001b[0;32m   3799\u001b[0m     \u001b[39m# If we have a listlike key, _check_indexing_error will raise\u001b[39;00m\n\u001b[0;32m   3800\u001b[0m     \u001b[39m#  InvalidIndexError. Otherwise we fall through and re-raise\u001b[39;00m\n\u001b[0;32m   3801\u001b[0m     \u001b[39m#  the TypeError.\u001b[39;00m\n\u001b[0;32m   3802\u001b[0m     \u001b[39mself\u001b[39m\u001b[39m.\u001b[39m_check_indexing_error(key)\n",
      "\u001b[1;31mKeyError\u001b[0m: 'Amount($)'"
     ]
    }
   ],
   "source": [
    "data_2019['Amount($)'] = pd.to_numeric(data_2019['Amount($)'], errors='coerce')"
   ]
  },
  {
   "cell_type": "markdown",
   "metadata": {},
   "source": [
    "<b>CHECK FOR DUPLICATE ENTRIES IN THE NEW DATASET df2018 & df2019<b>"
   ]
  },
  {
   "cell_type": "code",
   "execution_count": 12,
   "metadata": {},
   "outputs": [
    {
     "data": {
      "text/plain": [
       "False    524\n",
       "True       1\n",
       "Name: count, dtype: int64"
      ]
     },
     "execution_count": 12,
     "metadata": {},
     "output_type": "execute_result"
    }
   ],
   "source": [
    "data_2018.duplicated().value_counts()"
   ]
  },
  {
   "cell_type": "code",
   "execution_count": 13,
   "metadata": {},
   "outputs": [],
   "source": [
    "data_2018.drop_duplicates(keep='first', inplace=True)"
   ]
  },
  {
   "cell_type": "code",
   "execution_count": 14,
   "metadata": {},
   "outputs": [
    {
     "data": {
      "text/plain": [
       "False    89\n",
       "Name: count, dtype: int64"
      ]
     },
     "execution_count": 14,
     "metadata": {},
     "output_type": "execute_result"
    }
   ],
   "source": [
    "data_2019.duplicated().value_counts()"
   ]
  },
  {
   "cell_type": "markdown",
   "metadata": {},
   "source": [
    "# Step 3 "
   ]
  },
  {
   "cell_type": "markdown",
   "metadata": {},
   "source": [
    "Merging 2018 & 2019 and Checking for currency"
   ]
  },
  {
   "cell_type": "markdown",
   "metadata": {},
   "source": [
    "In the currency colunn in 2018 and 2019 some amount are in  Dollar, some are in Rupee while sum are just numeric so we converted all of them to Dollar for easy analysis"
   ]
  },
  {
   "cell_type": "code",
   "execution_count": 15,
   "metadata": {},
   "outputs": [],
   "source": [
    "# Merge the two csv files \n",
    "\n",
    "data_18_19 = pd.concat([data_2018, data_2019], ignore_index=True)"
   ]
  },
  {
   "cell_type": "code",
   "execution_count": 16,
   "metadata": {},
   "outputs": [
    {
     "name": "stdout",
     "output_type": "stream",
     "text": [
      "Index(['Company_Brand', 'Sector', 'Series', 'Amount', 'BIO', 'Year',\n",
      "       'HeadQuarter', 'ï»¿Company/Brand', 'Stage'],\n",
      "      dtype='object')\n"
     ]
    }
   ],
   "source": [
    "print(data_18_19.columns)\n"
   ]
  },
  {
   "cell_type": "code",
   "execution_count": 17,
   "metadata": {},
   "outputs": [],
   "source": [
    "# Merge values from 'ï»¿Company/Brand' into 'Company_Brand'\n",
    "data_18_19['Company_Brand'] = data_18_19['Company_Brand'].fillna(data_18_19['ï»¿Company/Brand'])\n",
    "\n",
    "# Drop the 'ï»¿Company/Brand' column if you no longer need it\n",
    "data_18_19.drop(['ï»¿Company/Brand'], axis=1, inplace=True)\n"
   ]
  },
  {
   "cell_type": "code",
   "execution_count": 18,
   "metadata": {},
   "outputs": [
    {
     "name": "stdout",
     "output_type": "stream",
     "text": [
      "Index(['Company_Brand', 'Sector', 'Series', 'Amount', 'BIO', 'Year',\n",
      "       'HeadQuarter', 'Stage'],\n",
      "      dtype='object')\n"
     ]
    }
   ],
   "source": [
    "print(data_18_19.columns)"
   ]
  },
  {
   "cell_type": "code",
   "execution_count": 19,
   "metadata": {},
   "outputs": [],
   "source": [
    "# Assuming exchange rate is: 1 INR = 0.012 USD\n",
    "exchange_rate_inr_to_usd = 0.012  \n",
    "\n",
    "# Convert ₹ values to USD using the exchange rate\n",
    "data_18_19['Amount'] = pd.to_numeric(data_18_19['Amount'].str.replace('₹', '', regex=False), errors='coerce') * exchange_rate_inr_to_usd\n",
    "\n",
    "# Convert the 'Amount' column to float\n",
    "data_18_19['Amount'] = data_18_19['Amount'].astype(float)\n",
    "\n",
    "# Convert the 'Amount' column to integers, handling NaN values\n",
    "data_18_19['Amount'] = data_18_19['Amount'].round().astype('Int64')\n",
    "\n",
    "# Fill missing values with NaN\n",
    "data_18_19['Amount'].fillna(np.nan, inplace=True)\n"
   ]
  },
  {
   "cell_type": "code",
   "execution_count": 20,
   "metadata": {},
   "outputs": [
    {
     "name": "stdout",
     "output_type": "stream",
     "text": [
      "Index(['Company_Brand', 'Sector', 'Series', 'Amount', 'BIO', 'Year',\n",
      "       'HeadQuarter', 'Stage'],\n",
      "      dtype='object')\n"
     ]
    }
   ],
   "source": [
    "print(data_18_19.columns)"
   ]
  },
  {
   "cell_type": "code",
   "execution_count": 21,
   "metadata": {},
   "outputs": [
    {
     "name": "stdout",
     "output_type": "stream",
     "text": [
      "Index(['Company_Brand', 'Sector', 'Series', 'Amount', 'BIO', 'Year',\n",
      "       'HeadQuarter', 'Stage'],\n",
      "      dtype='object')\n"
     ]
    }
   ],
   "source": [
    "print(data_18_19.columns)"
   ]
  },
  {
   "cell_type": "code",
   "execution_count": 22,
   "metadata": {},
   "outputs": [],
   "source": [
    "# Replace 'Undisclosed' with NaN\n",
    "data_18_19['Amount'] = data_18_19['Amount'].replace('Undisclosed', np.nan, regex=True)\n"
   ]
  },
  {
   "cell_type": "code",
   "execution_count": 23,
   "metadata": {},
   "outputs": [
    {
     "data": {
      "text/plain": [
       "False    613\n",
       "Name: count, dtype: int64"
      ]
     },
     "execution_count": 23,
     "metadata": {},
     "output_type": "execute_result"
    }
   ],
   "source": [
    "data_18_19.duplicated().value_counts()"
   ]
  },
  {
   "cell_type": "code",
   "execution_count": 24,
   "metadata": {},
   "outputs": [],
   "source": [
    "data_18_19.drop_duplicates(keep='first', inplace=True)"
   ]
  },
  {
   "cell_type": "code",
   "execution_count": 25,
   "metadata": {},
   "outputs": [
    {
     "data": {
      "text/html": [
       "<div>\n",
       "<style scoped>\n",
       "    .dataframe tbody tr th:only-of-type {\n",
       "        vertical-align: middle;\n",
       "    }\n",
       "\n",
       "    .dataframe tbody tr th {\n",
       "        vertical-align: top;\n",
       "    }\n",
       "\n",
       "    .dataframe thead th {\n",
       "        text-align: right;\n",
       "    }\n",
       "</style>\n",
       "<table border=\"1\" class=\"dataframe\">\n",
       "  <thead>\n",
       "    <tr style=\"text-align: right;\">\n",
       "      <th></th>\n",
       "      <th>Company_Brand</th>\n",
       "      <th>Sector</th>\n",
       "      <th>Series</th>\n",
       "      <th>Amount</th>\n",
       "      <th>BIO</th>\n",
       "      <th>Year</th>\n",
       "      <th>HeadQuarter</th>\n",
       "      <th>Stage</th>\n",
       "    </tr>\n",
       "  </thead>\n",
       "  <tbody>\n",
       "    <tr>\n",
       "      <th>0</th>\n",
       "      <td>TheCollegeFever</td>\n",
       "      <td>Brand Marketing, Event Promotion, Marketing, S...</td>\n",
       "      <td>Seed</td>\n",
       "      <td>3000</td>\n",
       "      <td>TheCollegeFever is a hub for fun, fiesta and f...</td>\n",
       "      <td>2018</td>\n",
       "      <td>Bangalore</td>\n",
       "      <td>NaN</td>\n",
       "    </tr>\n",
       "    <tr>\n",
       "      <th>1</th>\n",
       "      <td>Happy Cow Dairy</td>\n",
       "      <td>Agriculture, Farming</td>\n",
       "      <td>Seed</td>\n",
       "      <td>&lt;NA&gt;</td>\n",
       "      <td>A startup which aggregates milk from dairy far...</td>\n",
       "      <td>2018</td>\n",
       "      <td>Mumbai</td>\n",
       "      <td>NaN</td>\n",
       "    </tr>\n",
       "    <tr>\n",
       "      <th>2</th>\n",
       "      <td>MyLoanCare</td>\n",
       "      <td>Credit, Financial Services, Lending, Marketplace</td>\n",
       "      <td>Series A</td>\n",
       "      <td>&lt;NA&gt;</td>\n",
       "      <td>Leading Online Loans Marketplace in India</td>\n",
       "      <td>2018</td>\n",
       "      <td>Gurgaon</td>\n",
       "      <td>NaN</td>\n",
       "    </tr>\n",
       "    <tr>\n",
       "      <th>3</th>\n",
       "      <td>PayMe India</td>\n",
       "      <td>Financial Services, FinTech</td>\n",
       "      <td>Angel</td>\n",
       "      <td>24000</td>\n",
       "      <td>PayMe India is an innovative FinTech organizat...</td>\n",
       "      <td>2018</td>\n",
       "      <td>Noida</td>\n",
       "      <td>NaN</td>\n",
       "    </tr>\n",
       "    <tr>\n",
       "      <th>4</th>\n",
       "      <td>Eunimart</td>\n",
       "      <td>E-Commerce Platforms, Retail, SaaS</td>\n",
       "      <td>Seed</td>\n",
       "      <td>&lt;NA&gt;</td>\n",
       "      <td>Eunimart is a one stop solution for merchants ...</td>\n",
       "      <td>2018</td>\n",
       "      <td>Hyderabad</td>\n",
       "      <td>NaN</td>\n",
       "    </tr>\n",
       "  </tbody>\n",
       "</table>\n",
       "</div>"
      ],
      "text/plain": [
       "     Company_Brand                                             Sector  \\\n",
       "0  TheCollegeFever  Brand Marketing, Event Promotion, Marketing, S...   \n",
       "1  Happy Cow Dairy                               Agriculture, Farming   \n",
       "2       MyLoanCare   Credit, Financial Services, Lending, Marketplace   \n",
       "3      PayMe India                        Financial Services, FinTech   \n",
       "4         Eunimart                 E-Commerce Platforms, Retail, SaaS   \n",
       "\n",
       "     Series  Amount                                                BIO  Year  \\\n",
       "0      Seed    3000  TheCollegeFever is a hub for fun, fiesta and f...  2018   \n",
       "1      Seed    <NA>  A startup which aggregates milk from dairy far...  2018   \n",
       "2  Series A    <NA>          Leading Online Loans Marketplace in India  2018   \n",
       "3     Angel   24000  PayMe India is an innovative FinTech organizat...  2018   \n",
       "4      Seed    <NA>  Eunimart is a one stop solution for merchants ...  2018   \n",
       "\n",
       "  HeadQuarter Stage  \n",
       "0   Bangalore   NaN  \n",
       "1      Mumbai   NaN  \n",
       "2     Gurgaon   NaN  \n",
       "3       Noida   NaN  \n",
       "4   Hyderabad   NaN  "
      ]
     },
     "execution_count": 25,
     "metadata": {},
     "output_type": "execute_result"
    }
   ],
   "source": [
    "data_18_19.head()"
   ]
  },
  {
   "cell_type": "code",
   "execution_count": 26,
   "metadata": {},
   "outputs": [
    {
     "data": {
      "text/plain": [
       "25589908"
      ]
     },
     "execution_count": 26,
     "metadata": {},
     "output_type": "execute_result"
    }
   ],
   "source": [
    "data_18_19['Amount'].sum()"
   ]
  },
  {
   "cell_type": "markdown",
   "metadata": {},
   "source": [
    "# Step 4"
   ]
  },
  {
   "cell_type": "markdown",
   "metadata": {},
   "source": [
    "Cleaning 2020 & 2021"
   ]
  },
  {
   "cell_type": "code",
   "execution_count": 27,
   "metadata": {},
   "outputs": [],
   "source": [
    "# Renaming the Column to have the same column names for all the tables\n",
    "\n",
    "data_2020 = data_2020.rename(columns={'ï»¿Company/Brand': 'Company_Brand', 'Sector': 'Sector', 'Amount($)': 'Amount', 'What it does': 'BIO', 'Location':'HeadQuarter'})\n",
    "data_2021 = data_2021.rename(columns={'ï»¿Company/Brand': 'Company_Brand', 'Sector': 'Sector', 'Amount($)': 'Amount', 'What it does': 'BIO', 'HeadQuarter':'HeadQuarter'})"
   ]
  },
  {
   "cell_type": "markdown",
   "metadata": {},
   "source": [
    "<b> Drop some columns that might not be needed for the analysis like founded, founders, investors and column10 which is not also included in 2018 file <b>"
   ]
  },
  {
   "cell_type": "code",
   "execution_count": 28,
   "metadata": {},
   "outputs": [
    {
     "name": "stdout",
     "output_type": "stream",
     "text": [
      "Index(['Company_Brand', 'Founded', 'HeadQuarter', 'Sector', 'BIO', 'Founders',\n",
      "       'Investor', 'Amount', 'Stage', 'Unnamed: 9', 'Year'],\n",
      "      dtype='object')\n"
     ]
    }
   ],
   "source": [
    "print(data_2020.columns)"
   ]
  },
  {
   "cell_type": "code",
   "execution_count": 29,
   "metadata": {},
   "outputs": [
    {
     "name": "stdout",
     "output_type": "stream",
     "text": [
      "Index(['Company_Brand', 'Founded', 'HeadQuarter', 'Sector', 'BIO', 'Founders',\n",
      "       'Investor', 'Amount', 'Stage', 'Year'],\n",
      "      dtype='object')\n"
     ]
    }
   ],
   "source": [
    "print(data_2021.columns)"
   ]
  },
  {
   "cell_type": "code",
   "execution_count": 30,
   "metadata": {},
   "outputs": [],
   "source": [
    "# Drop the specified columns\n",
    "columns_to_drop = ['Founded','Founders', 'Investor', 'Investor']\n",
    "#data_2020.drop(columns_to_drop, axis=1, inplace=True)\n",
    "data_2021.drop(columns_to_drop, axis=1, inplace=True)\n"
   ]
  },
  {
   "cell_type": "code",
   "execution_count": 31,
   "metadata": {},
   "outputs": [
    {
     "name": "stdout",
     "output_type": "stream",
     "text": [
      "Index(['Company_Brand', 'HeadQuarter', 'Sector', 'BIO', 'Amount', 'Stage',\n",
      "       'Year'],\n",
      "      dtype='object')\n"
     ]
    }
   ],
   "source": [
    "print(data_2021.columns)"
   ]
  },
  {
   "cell_type": "code",
   "execution_count": 32,
   "metadata": {},
   "outputs": [
    {
     "name": "stdout",
     "output_type": "stream",
     "text": [
      "Index(['Company_Brand', 'Founded', 'HeadQuarter', 'Sector', 'BIO', 'Founders',\n",
      "       'Investor', 'Amount', 'Stage', 'Unnamed: 9', 'Year'],\n",
      "      dtype='object')\n"
     ]
    }
   ],
   "source": [
    "print(data_2020.columns)"
   ]
  },
  {
   "cell_type": "markdown",
   "metadata": {},
   "source": [
    "<b>Harmonising the HeadQuarter column entries in 2020&2021 data.<b>"
   ]
  },
  {
   "cell_type": "code",
   "execution_count": 33,
   "metadata": {},
   "outputs": [],
   "source": [
    "#  cleaning of HeadQuater 2020\n",
    "data_2020.replace(to_replace=['Bangalore City','Bangalore'], value='Bangalore', inplace=True)\n",
    "data_2020.replace(to_replace=['Delhi','New Delhi'], value='Delhi', inplace=True)\n",
    "data_2020.replace(to_replace=['Ahmadabad'], value='Ahmedabad', inplace=True)\n",
    "data_2020.replace(to_replace=['Kochi'], value='Cochin', inplace=True)\n",
    "data_2020.replace(to_replace=['Kormangala'], value='Koramangala', inplace=True)\n",
    "data_2020.replace(to_replace=['Rajastan'], value='Rajasthan', inplace=True)\n",
    "data_2020.replace(to_replace=['Powai','Worli'], value='Mumbai', inplace=True)\n",
    "data_2020.replace(to_replace=['Small Towns', 'Andhra Pradesh','Uttar Pradesh'], value='Andhra Pradesh', inplace=True)\n",
    "data_2020.replace(to_replace=['Hyderebad'], value='Hyderabad', inplace=True)\n",
    "data_2020.replace(to_replace=['Gurugram\\t#REF!'], value='Gurugram', inplace=True)\n",
    "data_2020.replace(to_replace=['Orissia'], value='Orissa', inplace=True)\n",
    "data_2020.replace(to_replace=['Samstipur','Samastipur, Bihar','Samsitpur'], value='Samastipur', inplace=True)\n",
    "data_2020.replace(to_replace=['The Nilgiris'], value='Nilgiris', inplace=True)\n",
    "data_2020.replace(to_replace=['Dhindsara', 'Haryana','Dhingsara, Haryana'], value='Dhingsara', inplace=True)\n",
    "data_2020.replace(to_replace=['Tirunelveli', 'Tamilnadu'], value='Tirunelveli', inplace=True)\n",
    "data_2020.replace(to_replace=['Mylapore'], value='Chennai', inplace=True)\n",
    "data_2020.replace(to_replace=['Rajastan'], value='Rajasthan', inplace=True)\n",
    "data_2020.replace(to_replace=['Trivandrum', 'Kerala, India'], value='Trivandrum', inplace=True)\n",
    "\n",
    "\n",
    "#  Renaming some of the headquarters the are not in India to outside india in data 2020\n",
    "data_2020.replace(to_replace=['Frisco', 'France','Newcastle Upon Tyne, Newcastle upon Tyne, United Kingdom',\n",
    "                              'Frisco, Texas, United States','Irvine, California, United States',\n",
    "                              'San Francisco Bay Area, West Coast, Western US','Texas, United States','California',\n",
    "                              'New York, United States','San Francisco, California, United States','San Francisco, United States',\n",
    "                              'San Ramon, California','Paris, Ile-de-France, France','Plano, Texas, United States','Sydney',\n",
    "                              'San Francisco Bay Area, Silicon Valley, West Coast','Bangaldesh','London, England, United Kingdom','Sydney, New South Wales, Australia',\n",
    "                              'Milano, Lombardia, Italy','Palmwoods, Queensland, Australia', 'France''Irvine, California, United States',\n",
    "                              'Newcastle Upon Tyne, Newcastle upon Tyne United Kingdom','Shanghai, China','Jiaxing, Zhejiang, China',\n",
    "                              'San Franciscao','San Francisco','New York'], value = 'Outside India', inplace=True)\n",
    "\n",
    "\n",
    "# filling of missing headquarters in 2020\n",
    "data_2020['HeadQuarter'].fillna('Undisclosed', inplace=True)"
   ]
  },
  {
   "cell_type": "code",
   "execution_count": 34,
   "metadata": {},
   "outputs": [],
   "source": [
    "# Standardizing Indian City Names\n",
    "indian_cities_mapping = {\n",
    "    'Bangalore City': 'Bangalore',\n",
    "    'Delhi': 'Delhi',\n",
    "    'New Delhi': 'Delhi',\n",
    "    'Ahmadabad': 'Ahmedabad',\n",
    "    'Kochi': 'Cochin',\n",
    "    'Kormangala': 'Koramangala',\n",
    "    'Rajastan': 'Rajasthan',\n",
    "    'Powai': 'Mumbai',\n",
    "    'Worli': 'Mumbai',\n",
    "    'Small Towns': 'Andhra Pradesh',\n",
    "    'Andhra Pradesh': 'Andhra Pradesh',\n",
    "    'Uttar Pradesh': 'Andhra Pradesh',\n",
    "    'Hyderebad': 'Hyderabad',\n",
    "    'Gurugram\\t#REF!': 'Gurugram',\n",
    "    'Orissia': 'Orissa',\n",
    "    'Samstipur': 'Samastipur',\n",
    "    'Samastipur, Bihar': 'Samastipur',\n",
    "    'Samsitpur': 'Samastipur',\n",
    "    'The Nilgiris': 'Nilgiris',\n",
    "    'Dhindsara': 'Dhingsara',\n",
    "    'Haryana': 'Dhingsara',\n",
    "    'Dhingsara, Haryana': 'Dhingsara',\n",
    "    'Tirunelveli': 'Tirunelveli',\n",
    "    'Tamilnadu': 'Tirunelveli',\n",
    "    'Mylapore': 'Chennai',\n",
    "    'Rajastan': 'Rajasthan',\n",
    "    'Trivandrum': 'Trivandrum',\n",
    "    'Kerala, India': 'Trivandrum',\n",
    "}\n",
    "\n",
    "# Renaming some of the headquarters that are not in India to 'Outside India' in data 2020\n",
    "outside_india_cities_mapping = {\n",
    "    'Frisco': 'Outside India',\n",
    "    'France': 'Outside India',\n",
    "    'Newcastle Upon Tyne, Newcastle upon Tyne, United Kingdom': 'Outside India',\n",
    "    'Frisco, Texas, United States': 'Outside India',\n",
    "    'Irvine, California, United States': 'Outside India',\n",
    "    'San Francisco Bay Area, West Coast, Western US': 'Outside India',\n",
    "    'Texas, United States': 'Outside India',\n",
    "    'California': 'Outside India',\n",
    "    'New York, United States': 'Outside India',\n",
    "    'San Francisco, California, United States': 'Outside India',\n",
    "    'San Francisco, United States': 'Outside India',\n",
    "    'San Ramon, California': 'Outside India',\n",
    "    'Paris, Ile-de-France, France': 'Outside India',\n",
    "    'Plano, Texas, United States': 'Outside India',\n",
    "    'Sydney': 'Outside India',\n",
    "    'San Francisco Bay Area, Silicon Valley, West Coast': 'Outside India',\n",
    "    'Bangaldesh': 'Outside India',\n",
    "    'London, England, United Kingdom': 'Outside India',\n",
    "    'Sydney, New South Wales, Australia': 'Outside India',\n",
    "    'Milano, Lombardia, Italy': 'Outside India',\n",
    "    'Palmwoods, Queensland, Australia': 'Outside India',\n",
    "    'France''Irvine, California, United States': 'Outside India',\n",
    "    'Newcastle Upon Tyne, Newcastle upon Tyne United Kingdom': 'Outside India',\n",
    "    'Shanghai, China': 'Outside India',\n",
    "    'Jiaxing, Zhejiang, China': 'Outside India',\n",
    "    'San Franciscao': 'Outside India',\n",
    "    'San Francisco': 'Outside India',\n",
    "    'New York': 'Outside India',\n",
    "}\n",
    "\n",
    "# Apply the mapping\n",
    "data_2020['HeadQuarter'].replace(to_replace=outside_india_cities_mapping, inplace=True)\n",
    "# Apply the mappings\n",
    "data_2020['HeadQuarter'].replace(indian_cities_mapping, inplace=True)\n",
    "# Filling Missing Values with 'Undisclosed'\n",
    "data_2020['HeadQuarter'].fillna('Undisclosed', inplace=True)\n",
    "\n",
    "\n"
   ]
  },
  {
   "cell_type": "code",
   "execution_count": 35,
   "metadata": {},
   "outputs": [
    {
     "data": {
      "text/plain": [
       "array(['Chennai', 'Bangalore', 'Pune', 'Delhi', 'Indore', 'Hyderabad',\n",
       "       'Gurgaon', 'Belgaum', 'Noida', 'Mumbai', 'Andheri', 'Jaipur',\n",
       "       'Ahmedabad', 'Kolkata', 'Tirunelveli, Tamilnadu', 'Thane',\n",
       "       'Undisclosed', 'Singapore', 'Gurugram', 'Gujarat', 'Dhingsara',\n",
       "       'Kerala', 'Jodhpur', 'Jaipur, Rajastan', 'Outside India', 'Patna',\n",
       "       'Trivandrum, Kerala, India', 'Cochin', 'Samastipur',\n",
       "       'Tumkur, Karnataka', 'Rajasthan', 'Ludhiana', 'Dehradun',\n",
       "       'Tangerang, Jawa Barat, Indonesia', 'Berlin', 'Seattle', 'Riyadh',\n",
       "       'Seoul', 'Bangkok', 'Kanpur', 'Chandigarh', 'Warangal', 'Odisha',\n",
       "       'Bihar', 'Goa', 'Tamil Nadu', 'Andhra Pradesh', 'Bhopal',\n",
       "       'Banglore', 'Coimbatore', 'Bengaluru'], dtype=object)"
      ]
     },
     "execution_count": 35,
     "metadata": {},
     "output_type": "execute_result"
    }
   ],
   "source": [
    "data_2020['HeadQuarter'].unique()"
   ]
  },
  {
   "cell_type": "code",
   "execution_count": 36,
   "metadata": {},
   "outputs": [
    {
     "data": {
      "text/plain": [
       "array(['Bangalore', 'Mumbai', 'Gurugram', 'New Delhi', 'Hyderabad',\n",
       "       'Jaipur', 'Ahmadabad', 'Chennai', nan,\n",
       "       'Small Towns, Andhra Pradesh', 'Goa', 'Rajsamand', 'Ranchi',\n",
       "       'Faridabad, Haryana', 'Gujarat', 'Pune', 'Thane', 'Computer Games',\n",
       "       'Cochin', 'Noida', 'Chandigarh', 'Gurgaon', 'Vadodara',\n",
       "       'Food & Beverages', 'Pharmaceuticals\\t#REF!', 'Gurugram\\t#REF!',\n",
       "       'Kolkata', 'Ahmedabad', 'Mohali', 'Haryana', 'Indore', 'Powai',\n",
       "       'Ghaziabad', 'Nagpur', 'West Bengal', 'Patna', 'Samsitpur',\n",
       "       'Lucknow', 'Telangana', 'Silvassa', 'Thiruvananthapuram',\n",
       "       'Faridabad', 'Roorkee', 'Ambernath', 'Panchkula', 'Surat',\n",
       "       'Coimbatore', 'Andheri', 'Mangalore', 'Telugana', 'Bhubaneswar',\n",
       "       'Kottayam', 'Beijing', 'Panaji', 'Satara', 'Orissia', 'Jodhpur',\n",
       "       'New York', 'Santra', 'Mountain View, CA', 'Trivandrum',\n",
       "       'Jharkhand', 'Kanpur', 'Bhilwara', 'Guwahati',\n",
       "       'Online Media\\t#REF!', 'Kochi', 'London',\n",
       "       'Information Technology & Services', 'The Nilgiris', 'Gandhinagar'],\n",
       "      dtype=object)"
      ]
     },
     "execution_count": 36,
     "metadata": {},
     "output_type": "execute_result"
    }
   ],
   "source": [
    "data_2021['HeadQuarter'].unique()"
   ]
  },
  {
   "cell_type": "code",
   "execution_count": 37,
   "metadata": {},
   "outputs": [],
   "source": [
    "#  cleaning of HeadQuater 2021\n",
    "# Create a mapping dictionary for city name corrections\n",
    "headquarter_mapping = {\n",
    "    'Bangalore': 'Bangalore',\n",
    "    'Mumbai': 'Mumbai',\n",
    "    'Gurugram': 'Gurugram',\n",
    "    'New Delhi': 'New Delhi',\n",
    "    'Hyderabad': 'Hyderabad',\n",
    "    'Jaipur': 'Jaipur',\n",
    "    'Ahmadabad': 'Ahmedabad',\n",
    "    'Chennai': 'Chennai',\n",
    "    'Small Towns, Andhra Pradesh': 'Small Towns, Andhra Pradesh',\n",
    "    'Goa': 'Goa',\n",
    "    'Rajsamand': 'Rajsamand',\n",
    "    'Ranchi': 'Ranchi',\n",
    "    'Faridabad, Haryana': 'Faridabad',\n",
    "    'Gujarat': 'Gujarat',\n",
    "    'Pune': 'Pune',\n",
    "    'Thane': 'Thane',\n",
    "    'Computer Games': 'Computer Games',\n",
    "    'Cochin': 'Kochi',\n",
    "    'Noida': 'Noida',\n",
    "    'Chandigarh': 'Chandigarh',\n",
    "    'Gurgaon': 'Gurugram',\n",
    "    'Vadodara': 'Vadodara',\n",
    "    'Food & Beverages': 'Food & Beverages',\n",
    "    'Pharmaceuticals\\t#REF!': 'Pharmaceuticals',\n",
    "    'Gurugram\\t#REF!': 'Gurugram',\n",
    "    'Kolkata': 'Kolkata',\n",
    "    'Ahmedabad': 'Ahmedabad',\n",
    "    'Mohali': 'Mohali',\n",
    "    'Haryana': 'Haryana',\n",
    "    'Indore': 'Indore',\n",
    "    'Powai': 'Powai',\n",
    "    'Ghaziabad': 'Ghaziabad',\n",
    "    'Nagpur': 'Nagpur',\n",
    "    'West Bengal': 'West Bengal',\n",
    "    'Patna': 'Patna',\n",
    "    'Samsitpur': 'Samsitpur',\n",
    "    'Lucknow': 'Lucknow',\n",
    "    'Telangana': 'Telangana',\n",
    "    'Silvassa': 'Silvassa',\n",
    "    'Thiruvananthapuram': 'Thiruvananthapuram',\n",
    "    'Faridabad': 'Faridabad',\n",
    "    'Roorkee': 'Roorkee',\n",
    "    'Ambernath': 'Ambernath',\n",
    "    'Panchkula': 'Panchkula',\n",
    "    'Surat': 'Surat',\n",
    "    'Coimbatore': 'Coimbatore',\n",
    "    'Andheri': 'Andheri',\n",
    "    'Mangalore': 'Mangalore',\n",
    "    'Telugana': 'Telangana',\n",
    "    'Bhubaneswar': 'Bhubaneswar',\n",
    "    'Kottayam': 'Kottayam',\n",
    "    'Beijing': 'Beijing',\n",
    "    'Panaji': 'Panaji',\n",
    "    'Satara': 'Satara',\n",
    "    'Orissia': 'Orissa',\n",
    "    'Jodhpur': 'Jodhpur',\n",
    "    'New York': 'New York',\n",
    "    'Santra': 'Santra',\n",
    "    'Mountain View, CA': 'Mountain View, CA',\n",
    "    'Trivandrum': 'Trivandrum',\n",
    "    'Jharkhand': 'Jharkhand',\n",
    "    'Kanpur': 'Kanpur',\n",
    "    'Bhilwara': 'Bhilwara',\n",
    "    'Guwahati': 'Guwahati',\n",
    "    'Online Media\\t#REF!': 'Online Media',\n",
    "    'Kochi': 'Kochi',\n",
    "    'London': 'London',\n",
    "    'Information Technology & Services': 'Information Technology & Services',\n",
    "    'The Nilgiris': 'The Nilgiris',\n",
    "    'Gandhinagar': 'Gandhinagar'\n",
    "}\n",
    "\n",
    "# Replace city names using the mapping dictionary\n",
    "data_2021['HeadQuarter'] = data_2021['HeadQuarter'].map(headquarter_mapping)\n",
    "\n",
    "\n",
    "\n",
    "#  Renaming some of the headquarters the are not in India to outside india in data 2020\n",
    "data_2021.replace(to_replace=['London', 'New York', ' Mountain View', 'CA ', 'Beijing', '' ], value='Outside_India', inplace=True)\n",
    "data_2021.replace(to_replace=['Online Media\\t#REF!', 'Pharmaceuticals\\t#REF!', 'Food & Beverages', \n",
    "                             'Computer Games', 'Small Towns', ' None', 'None', 'Information Technology & Services'], value='Undisclosed', inplace=True)\n",
    "data_2021.replace(to_replace=['Gurugram\\t#REF!' ], value='Gurugrama', inplace=True)\n",
    "\n",
    "data_2021['HeadQuarter'].fillna('Undisclosed', inplace=True)"
   ]
  },
  {
   "cell_type": "code",
   "execution_count": 38,
   "metadata": {},
   "outputs": [
    {
     "data": {
      "text/plain": [
       "array(['Bangalore', 'Mumbai', 'Gurugram', 'New Delhi', 'Hyderabad',\n",
       "       'Jaipur', 'Ahmedabad', 'Chennai', 'Undisclosed',\n",
       "       'Small Towns, Andhra Pradesh', 'Goa', 'Rajsamand', 'Ranchi',\n",
       "       'Faridabad', 'Gujarat', 'Pune', 'Thane', 'Kochi', 'Noida',\n",
       "       'Chandigarh', 'Vadodara', 'Pharmaceuticals', 'Kolkata', 'Mohali',\n",
       "       'Haryana', 'Indore', 'Powai', 'Ghaziabad', 'Nagpur', 'West Bengal',\n",
       "       'Patna', 'Samsitpur', 'Lucknow', 'Telangana', 'Silvassa',\n",
       "       'Thiruvananthapuram', 'Roorkee', 'Ambernath', 'Panchkula', 'Surat',\n",
       "       'Coimbatore', 'Andheri', 'Mangalore', 'Bhubaneswar', 'Kottayam',\n",
       "       'Outside_India', 'Panaji', 'Satara', 'Orissa', 'Jodhpur', 'Santra',\n",
       "       'Mountain View, CA', 'Trivandrum', 'Jharkhand', 'Kanpur',\n",
       "       'Bhilwara', 'Guwahati', 'Online Media', 'The Nilgiris',\n",
       "       'Gandhinagar'], dtype=object)"
      ]
     },
     "execution_count": 38,
     "metadata": {},
     "output_type": "execute_result"
    }
   ],
   "source": [
    "# checking for the uniquness of headquarter column\n",
    "data_2021['HeadQuarter'].unique()"
   ]
  },
  {
   "cell_type": "markdown",
   "metadata": {},
   "source": [
    "<b>CHECK FOR DUPLICATE ENTRIES IN THE NEW DATASET df2020 & df2021<b>"
   ]
  },
  {
   "cell_type": "code",
   "execution_count": 39,
   "metadata": {},
   "outputs": [
    {
     "data": {
      "text/plain": [
       "False    1052\n",
       "True        3\n",
       "Name: count, dtype: int64"
      ]
     },
     "execution_count": 39,
     "metadata": {},
     "output_type": "execute_result"
    }
   ],
   "source": [
    "data_2020.duplicated().value_counts()"
   ]
  },
  {
   "cell_type": "code",
   "execution_count": 40,
   "metadata": {},
   "outputs": [],
   "source": [
    "data_2020.drop_duplicates(keep='first', inplace=True)"
   ]
  },
  {
   "cell_type": "code",
   "execution_count": 41,
   "metadata": {},
   "outputs": [],
   "source": [
    "data_2021.drop_duplicates(keep='first', inplace = True)"
   ]
  },
  {
   "cell_type": "code",
   "execution_count": 42,
   "metadata": {},
   "outputs": [
    {
     "data": {
      "text/plain": [
       "False    1189\n",
       "Name: count, dtype: int64"
      ]
     },
     "execution_count": 42,
     "metadata": {},
     "output_type": "execute_result"
    }
   ],
   "source": [
    "data_2021.duplicated().value_counts()"
   ]
  },
  {
   "cell_type": "markdown",
   "metadata": {},
   "source": [
    "# Step 5"
   ]
  },
  {
   "cell_type": "code",
   "execution_count": 43,
   "metadata": {},
   "outputs": [],
   "source": [
    "# Merge the two csv files \n",
    "data_20_21 = pd.concat([data_2020, data_2021], ignore_index=True)"
   ]
  },
  {
   "cell_type": "code",
   "execution_count": 44,
   "metadata": {},
   "outputs": [
    {
     "name": "stdout",
     "output_type": "stream",
     "text": [
      "Index(['Company_Brand', 'Founded', 'HeadQuarter', 'Sector', 'BIO', 'Founders',\n",
      "       'Investor', 'Amount', 'Stage', 'Unnamed: 9', 'Year'],\n",
      "      dtype='object')\n"
     ]
    }
   ],
   "source": [
    "print(data_20_21.columns)"
   ]
  },
  {
   "cell_type": "code",
   "execution_count": 45,
   "metadata": {},
   "outputs": [
    {
     "data": {
      "text/plain": [
       "array(['$200,000', '$100,000', 'Undisclosed', '$400,000', '$340,000',\n",
       "       '$600,000', '$45,000,000', '$1,000,000', '$2,000,000',\n",
       "       '$1,200,000', '$660,000,000', '$120,000', '$7,500,000',\n",
       "       '$5,000,000', '$500,000', '$3,000,000', '$10,000,000',\n",
       "       '$145,000,000', '$100,000,000', nan, '$21,000,000', '$4,000,000',\n",
       "       '$20,000,000', '$560,000', '$275,000', '$4,500,000', '$15,000,000',\n",
       "       '$390,000,000', '$7,000,000', '$5,100,000', '$700,000,000',\n",
       "       '$2,300,000', '$700,000', '$19,000,000', '$9,000,000',\n",
       "       '$40,000,000', '$750,000', '$1,500,000', '$7,800,000',\n",
       "       '$50,000,000', '$80,000,000', '$30,000,000', '$1,700,000',\n",
       "       '$2,500,000', '$40,000', '$33,000,000', '$35,000,000', '$300,000',\n",
       "       '$25,000,000', '$3,500,000', '$200,000,000', '$6,000,000',\n",
       "       '$1,300,000', '$4,100,000', '$575,000', '$800,000', '$28,000,000',\n",
       "       '$18,000,000', '$3,200,000', '$900,000', '$250,000', '$4,700,000',\n",
       "       '$75,000,000', '$8,000,000', '$121,000,000', '$55,000,000',\n",
       "       '$3,300,000', '$11,000,000', '$16,000,000', '$5,400,000',\n",
       "       '$150,000,000', '$4,200,000', '$22,000,000', '$52,000,000',\n",
       "       '$1,100,000', '$118,000,000', '$1,600,000', '$18,500,000',\n",
       "       '$70,000,000,000', '$800,000,000', '$400,000,000', '$150,000',\n",
       "       '$176,000,000', '$60,000,000', '$470,000', '$240,000',\n",
       "       '$3,000,000,000', '$74,000,000', '$62,000,000', '$2,100,000',\n",
       "       '$500,000,000', '$12,500,000', '$2,200,000,000', '$5,060,000',\n",
       "       '$225,000,000', '$24,700,000', '$7,700,000', '$1,90,67,328',\n",
       "       '$51,000,000', '$115,000', '$54,000', '$20,000', '$803,146',\n",
       "       '$238,000', '$10,220,000', '$1,020,000', '$12,000,000',\n",
       "       '$13,400,000', '$170,000,000', '$2,900,000', '$543,000',\n",
       "       '$90,000,000', '$3,400,000', '$23,000,000', '$8,090,000',\n",
       "       '$1,030,000', '$5,040,000', '$360,000', '$1,400,000', '$650,000',\n",
       "       '$54,000,000', '$42,500,000', '$11,370,000', '$325,000',\n",
       "       '$410,000', '$450,000', '$682,000', '$4,050,000', '$1,050,000',\n",
       "       '$1,080,000', '$4,300,000', '$6,800,000', '$2,110,000',\n",
       "       '$887,000, $23,000,000', '$764,000', '$603,000', '$409,000',\n",
       "       '$292,000', '$286,000', '$136,000', '$800,000,000 to $850,000,000',\n",
       "       '$546,000', '$887,000', '$43,000', '$40,900', '$2,200,000',\n",
       "       '$5,660,000', '$350,000', '$110,000', '$122,000,000',\n",
       "       '$11,635,000', '$2,800,000', '$1,065,000', '$669,000',\n",
       "       '$16,076,000', '$649,600', '$6,700,000', '$220,000', '$266,500',\n",
       "       '$2,879,000', '$26,500,000', '$351,000', '$ 8,700,000',\n",
       "       '$46,761,000', '$175,000', '9.600,000', '$11,241,000', '$804,000',\n",
       "       '$1,340,000', '$467,000', '$133,000', '$3,823,000', '$934,000',\n",
       "       '$293,000', '$198,000', '$927,000', '$971,000', '$3,060,000',\n",
       "       '$1,862,000', '$232,000', '$2,888,000', '$1,328,000',\n",
       "       '$15,500,000', '$56,000,000', '$2,250,000', '$16,753,000',\n",
       "       '$3,700,000', '$1,470,000', '$530,000', '$267,000', '$3,344,000',\n",
       "       '$7,200,000', '$2,743,000', '$6,082,000', '$6,609,000',\n",
       "       '$27,700,000', '$5,940,000', '$3,964,000', '$5,500,000',\n",
       "       '$197,000', '$4,327,000', '$459,000', '$3,937,000', '$1,313,500',\n",
       "       '$229,800', '$5,305,000', '$264,000', '$1,750,000', '$5,967,000',\n",
       "       '$2,980,000', 'Undiclsosed', '$323,000', '$1,326,000',\n",
       "       '$27,000,000', '$5,200,000', '$2,530,000', '$792,000',\n",
       "       '$11,363,000', '$1,715,000', '$329,000', '$5,271,000',\n",
       "       '$8,700,000', '$3,226,000', '$5,900,000', '$44,000,000',\n",
       "       '$3,879,000', '$13,000,000', '$8,800,000', '$9,500,000',\n",
       "       '$920,000', '$35,600,000', '$9,400,000', '$790,000', '$480,000',\n",
       "       '$160,000', '$8,200,000', '$4,257,000', '$1,410,000', '$349,800',\n",
       "       '$786,000', '$2,004,000', '$123,000,000', '$248,000',\n",
       "       '$24,000,000', '$14,259,000', '$24,500,000', '$3,800,000',\n",
       "       '$18,370,000', '$68,525,000', '$4,800,000', '$1,834,000',\n",
       "       '$23,850,000', '$43,000,000', '$21,600,000', '$4,598,000',\n",
       "       '$13,137,000', '$115,000,000', '$3,900,000', '$670,000',\n",
       "       '42.23,000', '$8,500,000', '$3,148,000', '$2,600,000', '25,58,000',\n",
       "       '$4,049,500', '$10,500,000', '$6,500,000', '$43,700,000',\n",
       "       '$13,800,000', '$306,900', '$420,000', '$627,300', '$113,000,000',\n",
       "       '$32,000,000', '$110,000,000', '$1,397,000', '$448,500',\n",
       "       '$7,975,700', '$330,000', '$5,600,000', '$1,402,000',\n",
       "       '$21,500,000', '$296,000,000', '$4,900,000', '$1,402,400',\n",
       "       '$12,618,300', '$9,900,000', '$982,530', '$70,185,200',\n",
       "       '$210,000,000', '$84,000,000', '$39,000,000', '$2,700,000',\n",
       "       '$1,403,400', '$105,000,000', '$103,000,000', '$281,300',\n",
       "       '$12,700', '$25,000', '$97,500,000', '$507,000', 'Undislosed',\n",
       "       '$8,400,000', '$18,300,000', '$125,000,000', '$181,000',\n",
       "       '$280,000', '$14,700,000', '$13,200,000', '$8,043,000',\n",
       "       '$120,000,000', '$188,000,000', '$49,000,000', '$160,000,000',\n",
       "       '$1,800,000', '$850,000', '$53,000,000', '$26,000,000',\n",
       "       '$7,400,000', '$17,000,000', '$215,000,000', '$350,000,000',\n",
       "       '$83,000,000', '$65,000,000', '$150,000,000,000', '$300,000,000',\n",
       "       '$140,000,000', '$Undisclosed', '$2000000', '$800000', '$6000000',\n",
       "       '$2500000', '$9500000', '$13000000', '$5000000', '$8000000',\n",
       "       '$1000000', 'Upsparks', '$200000', '$12000000', '$1500000',\n",
       "       '$1700000', '$5500000', '$400000', '$150000000', '$4000000',\n",
       "       '$100000000', '$500000', '$15000000', '$10000000', '$40000000',\n",
       "       '$225000000', '$6700000', '$1300000', '$20000000', '$250000',\n",
       "       '$21000000', '$1200000', '$52000000', '$3800000', '$17500000',\n",
       "       '$42000000', '$2300000', '$7000000', '$30000000', '$450000000',\n",
       "       '$28000000', '$300000', '$3500000', '$8500000', '$25000000',\n",
       "       '$3000000', '$37000000', '$370000000', '$700000', '$16000000',\n",
       "       '$100000', '$44000000', '$770000', '$125000000', '$35000000',\n",
       "       '$50000000', '$4900000', '$145000000', '$22000000', '$70000000',\n",
       "       '$6600000', '$32000000', '$24000000', '$725000', '$461000',\n",
       "       'Series C', 'Seed', '$96000000', '$60000000', '$500000000',\n",
       "       '$266000000', '$4500000', '$325000000', '$6500000', '$1600000',\n",
       "       '$225000', '$85000000', '$235000', '$260000', '$2900000',\n",
       "       '$53000000', '$1100000', '$150000', '$86000000', '$130000',\n",
       "       '$$100,00', '$111000000', '$265000', '$76000000', '$260,000',\n",
       "       '$1,000,000,000', '$95,000,000', '$14,300,000', '$81,000,000',\n",
       "       '$280,000,000', '$70,000,000', '$720,000', '$600000', '$9000000',\n",
       "       '$1800000', '$330000', '$undisclosed', '$200000000', '$36000000',\n",
       "       '$67000000', '$10200000', '$220000000', '$108000000', '$75000000',\n",
       "       '$450000', '$660000000', 'ah! Ventures', '$45000000', '$3200000',\n",
       "       '$370000', 'Pre-series A', 'ITO Angel Network, LetsVenture',\n",
       "       '$48000000', '$3600000', '$11000000', '$192000000', '$65000000',\n",
       "       '$1400000', '$1900000', '$41000000', '$144000000', '$5200000',\n",
       "       '$270000000', '$140000', '$250000000', '$320000', '$350000000',\n",
       "       '$4800000', '$38000000', '$125000', '$26000000', '$64000000',\n",
       "       '$620000', '$900000', 'JITO Angel Network, LetsVenture',\n",
       "       '$2600000', '$1,250,000', '$234,000,000', '$460,000,000',\n",
       "       '$13,500,000', '$195,000,000', '$125,000', '$7,300,000',\n",
       "       '$6,300,000', '$140,000', '$16,500,000', '$3300000', '$92000000',\n",
       "       '$17000000', '$135000000', '$$1,55,000', '$2100000', '$840000000',\n",
       "       '$248000000', '$4300000', '$570000', '$2200000', '$4700000',\n",
       "       '$300000000', '$260000000', '$140000000', '$175000000',\n",
       "       '$19000000', '$810000', '$7500000', '$600000000', '$90000000',\n",
       "       '$5700000', '$6750000', '$78000000', '$5400000', '$115000000',\n",
       "       '$255000000', '$18000000', '$570000000', '$550000', '$2700000',\n",
       "       '$4200000', '$31000000', '$540000', '$14000000', '$340000', '$',\n",
       "       '$6200000', '$750000', '$6300000', '$23000000', '$55000000'],\n",
       "      dtype=object)"
      ]
     },
     "execution_count": 45,
     "metadata": {},
     "output_type": "execute_result"
    }
   ],
   "source": [
    "data_20_21['Amount'].unique()"
   ]
  },
  {
   "cell_type": "code",
   "execution_count": 46,
   "metadata": {},
   "outputs": [],
   "source": [
    "# Replace 'Undisclosed' with NaN\n",
    "data_20_21['Amount'] = data_20_21['Amount'].replace('Undisclosed', np.nan, regex=True)\n"
   ]
  },
  {
   "cell_type": "code",
   "execution_count": 47,
   "metadata": {},
   "outputs": [
    {
     "name": "stdout",
     "output_type": "stream",
     "text": [
      "['$200,000' '$100,000' nan '$400,000' '$340,000' '$600,000' '$45,000,000'\n",
      " '$1,000,000' '$2,000,000' '$1,200,000' '$660,000,000' '$120,000'\n",
      " '$7,500,000' '$5,000,000' '$500,000' '$3,000,000' '$10,000,000'\n",
      " '$145,000,000' '$100,000,000' '$21,000,000' '$4,000,000' '$20,000,000'\n",
      " '$560,000' '$275,000' '$4,500,000' '$15,000,000' '$390,000,000'\n",
      " '$7,000,000' '$5,100,000' '$700,000,000' '$2,300,000' '$700,000'\n",
      " '$19,000,000' '$9,000,000' '$40,000,000' '$750,000' '$1,500,000'\n",
      " '$7,800,000' '$50,000,000' '$80,000,000' '$30,000,000' '$1,700,000'\n",
      " '$2,500,000' '$40,000' '$33,000,000' '$35,000,000' '$300,000'\n",
      " '$25,000,000' '$3,500,000' '$200,000,000' '$6,000,000' '$1,300,000'\n",
      " '$4,100,000' '$575,000' '$800,000' '$28,000,000' '$18,000,000'\n",
      " '$3,200,000' '$900,000' '$250,000' '$4,700,000' '$75,000,000'\n",
      " '$8,000,000' '$121,000,000' '$55,000,000' '$3,300,000' '$11,000,000'\n",
      " '$16,000,000' '$5,400,000' '$150,000,000' '$4,200,000' '$22,000,000'\n",
      " '$52,000,000' '$1,100,000' '$118,000,000' '$1,600,000' '$18,500,000'\n",
      " '$70,000,000,000' '$800,000,000' '$400,000,000' '$150,000' '$176,000,000'\n",
      " '$60,000,000' '$470,000' '$240,000' '$3,000,000,000' '$74,000,000'\n",
      " '$62,000,000' '$2,100,000' '$500,000,000' '$12,500,000' '$2,200,000,000'\n",
      " '$5,060,000' '$225,000,000' '$24,700,000' '$7,700,000' '$1,90,67,328'\n",
      " '$51,000,000' '$115,000' '$54,000' '$20,000' '$803,146' '$238,000'\n",
      " '$10,220,000' '$1,020,000' '$12,000,000' '$13,400,000' '$170,000,000'\n",
      " '$2,900,000' '$543,000' '$90,000,000' '$3,400,000' '$23,000,000'\n",
      " '$8,090,000' '$1,030,000' '$5,040,000' '$360,000' '$1,400,000' '$650,000'\n",
      " '$54,000,000' '$42,500,000' '$11,370,000' '$325,000' '$410,000'\n",
      " '$450,000' '$682,000' '$4,050,000' '$1,050,000' '$1,080,000' '$4,300,000'\n",
      " '$6,800,000' '$2,110,000' '$887,000, $23,000,000' '$764,000' '$603,000'\n",
      " '$409,000' '$292,000' '$286,000' '$136,000'\n",
      " '$800,000,000 to $850,000,000' '$546,000' '$887,000' '$43,000' '$40,900'\n",
      " '$2,200,000' '$5,660,000' '$350,000' '$110,000' '$122,000,000'\n",
      " '$11,635,000' '$2,800,000' '$1,065,000' '$669,000' '$16,076,000'\n",
      " '$649,600' '$6,700,000' '$220,000' '$266,500' '$2,879,000' '$26,500,000'\n",
      " '$351,000' '$ 8,700,000' '$46,761,000' '$175,000' '9.600,000'\n",
      " '$11,241,000' '$804,000' '$1,340,000' '$467,000' '$133,000' '$3,823,000'\n",
      " '$934,000' '$293,000' '$198,000' '$927,000' '$971,000' '$3,060,000'\n",
      " '$1,862,000' '$232,000' '$2,888,000' '$1,328,000' '$15,500,000'\n",
      " '$56,000,000' '$2,250,000' '$16,753,000' '$3,700,000' '$1,470,000'\n",
      " '$530,000' '$267,000' '$3,344,000' '$7,200,000' '$2,743,000' '$6,082,000'\n",
      " '$6,609,000' '$27,700,000' '$5,940,000' '$3,964,000' '$5,500,000'\n",
      " '$197,000' '$4,327,000' '$459,000' '$3,937,000' '$1,313,500' '$229,800'\n",
      " '$5,305,000' '$264,000' '$1,750,000' '$5,967,000' '$2,980,000'\n",
      " 'Undiclsosed' '$323,000' '$1,326,000' '$27,000,000' '$5,200,000'\n",
      " '$2,530,000' '$792,000' '$11,363,000' '$1,715,000' '$329,000'\n",
      " '$5,271,000' '$8,700,000' '$3,226,000' '$5,900,000' '$44,000,000'\n",
      " '$3,879,000' '$13,000,000' '$8,800,000' '$9,500,000' '$920,000'\n",
      " '$35,600,000' '$9,400,000' '$790,000' '$480,000' '$160,000' '$8,200,000'\n",
      " '$4,257,000' '$1,410,000' '$349,800' '$786,000' '$2,004,000'\n",
      " '$123,000,000' '$248,000' '$24,000,000' '$14,259,000' '$24,500,000'\n",
      " '$3,800,000' '$18,370,000' '$68,525,000' '$4,800,000' '$1,834,000'\n",
      " '$23,850,000' '$43,000,000' '$21,600,000' '$4,598,000' '$13,137,000'\n",
      " '$115,000,000' '$3,900,000' '$670,000' '42.23,000' '$8,500,000'\n",
      " '$3,148,000' '$2,600,000' '25,58,000' '$4,049,500' '$10,500,000'\n",
      " '$6,500,000' '$43,700,000' '$13,800,000' '$306,900' '$420,000' '$627,300'\n",
      " '$113,000,000' '$32,000,000' '$110,000,000' '$1,397,000' '$448,500'\n",
      " '$7,975,700' '$330,000' '$5,600,000' '$1,402,000' '$21,500,000'\n",
      " '$296,000,000' '$4,900,000' '$1,402,400' '$12,618,300' '$9,900,000'\n",
      " '$982,530' '$70,185,200' '$210,000,000' '$84,000,000' '$39,000,000'\n",
      " '$2,700,000' '$1,403,400' '$105,000,000' '$103,000,000' '$281,300'\n",
      " '$12,700' '$25,000' '$97,500,000' '$507,000' 'Undislosed' '$8,400,000'\n",
      " '$18,300,000' '$125,000,000' '$181,000' '$280,000' '$14,700,000'\n",
      " '$13,200,000' '$8,043,000' '$120,000,000' '$188,000,000' '$49,000,000'\n",
      " '$160,000,000' '$1,800,000' '$850,000' '$53,000,000' '$26,000,000'\n",
      " '$7,400,000' '$17,000,000' '$215,000,000' '$350,000,000' '$83,000,000'\n",
      " '$65,000,000' '$150,000,000,000' '$300,000,000' '$140,000,000' '$2000000'\n",
      " '$800000' '$6000000' '$2500000' '$9500000' '$13000000' '$5000000'\n",
      " '$8000000' '$1000000' 'Upsparks' '$200000' '$12000000' '$1500000'\n",
      " '$1700000' '$5500000' '$400000' '$150000000' '$4000000' '$100000000'\n",
      " '$500000' '$15000000' '$10000000' '$40000000' '$225000000' '$6700000'\n",
      " '$1300000' '$20000000' '$250000' '$21000000' '$1200000' '$52000000'\n",
      " '$3800000' '$17500000' '$42000000' '$2300000' '$7000000' '$30000000'\n",
      " '$450000000' '$28000000' '$300000' '$3500000' '$8500000' '$25000000'\n",
      " '$3000000' '$37000000' '$370000000' '$700000' '$16000000' '$100000'\n",
      " '$44000000' '$770000' '$125000000' '$35000000' '$50000000' '$4900000'\n",
      " '$145000000' '$22000000' '$70000000' '$6600000' '$32000000' '$24000000'\n",
      " '$725000' '$461000' 'Series C' 'Seed' '$96000000' '$60000000'\n",
      " '$500000000' '$266000000' '$4500000' '$325000000' '$6500000' '$1600000'\n",
      " '$225000' '$85000000' '$235000' '$260000' '$2900000' '$53000000'\n",
      " '$1100000' '$150000' '$86000000' '$130000' '$$100,00' '$111000000'\n",
      " '$265000' '$76000000' '$260,000' '$1,000,000,000' '$95,000,000'\n",
      " '$14,300,000' '$81,000,000' '$280,000,000' '$70,000,000' '$720,000'\n",
      " '$600000' '$9000000' '$1800000' '$330000' '$undisclosed' '$200000000'\n",
      " '$36000000' '$67000000' '$10200000' '$220000000' '$108000000' '$75000000'\n",
      " '$450000' '$660000000' 'ah! Ventures' '$45000000' '$3200000' '$370000'\n",
      " 'Pre-series A' 'ITO Angel Network, LetsVenture' '$48000000' '$3600000'\n",
      " '$11000000' '$192000000' '$65000000' '$1400000' '$1900000' '$41000000'\n",
      " '$144000000' '$5200000' '$270000000' '$140000' '$250000000' '$320000'\n",
      " '$350000000' '$4800000' '$38000000' '$125000' '$26000000' '$64000000'\n",
      " '$620000' '$900000' 'JITO Angel Network, LetsVenture' '$2600000'\n",
      " '$1,250,000' '$234,000,000' '$460,000,000' '$13,500,000' '$195,000,000'\n",
      " '$125,000' '$7,300,000' '$6,300,000' '$140,000' '$16,500,000' '$3300000'\n",
      " '$92000000' '$17000000' '$135000000' '$$1,55,000' '$2100000' '$840000000'\n",
      " '$248000000' '$4300000' '$570000' '$2200000' '$4700000' '$300000000'\n",
      " '$260000000' '$140000000' '$175000000' '$19000000' '$810000' '$7500000'\n",
      " '$600000000' '$90000000' '$5700000' '$6750000' '$78000000' '$5400000'\n",
      " '$115000000' '$255000000' '$18000000' '$570000000' '$550000' '$2700000'\n",
      " '$4200000' '$31000000' '$540000' '$14000000' '$340000' '$' '$6200000'\n",
      " '$750000' '$6300000' '$23000000' '$55000000']\n"
     ]
    }
   ],
   "source": [
    "# Check unique values in the 'Amount' column\n",
    "unique_values = data_20_21['Amount'].unique()\n",
    "print(unique_values)\n"
   ]
  },
  {
   "cell_type": "code",
   "execution_count": 48,
   "metadata": {},
   "outputs": [],
   "source": [
    "# Replace '$' symbol in 'Amount' column\n",
    "data_20_21['Amount'] = data_20_21['Amount'].str.replace ('$', '',)"
   ]
  },
  {
   "cell_type": "code",
   "execution_count": 49,
   "metadata": {},
   "outputs": [],
   "source": [
    "# Convert the 'Amount' column to float, round, and then to nullable integer type\n",
    "data_20_21['Amount'] = pd.to_numeric(data_20_21['Amount'], errors='coerce').round().astype('Int64')"
   ]
  },
  {
   "cell_type": "code",
   "execution_count": 50,
   "metadata": {},
   "outputs": [
    {
     "name": "stdout",
     "output_type": "stream",
     "text": [
      "<IntegerArray>\n",
      "[    <NA>,  2000000,   800000,  6000000,  2500000,  9500000, 13000000,\n",
      "  5000000,  8000000,  1000000,\n",
      " ...\n",
      "  4200000, 31000000,   540000, 14000000,   340000,  6200000,   750000,\n",
      "  6300000, 23000000, 55000000]\n",
      "Length: 163, dtype: Int64\n"
     ]
    }
   ],
   "source": [
    "# Check unique values in the 'Amount' column\n",
    "unique_values = data_20_21['Amount'].unique()\n",
    "print(unique_values)\n"
   ]
  },
  {
   "cell_type": "code",
   "execution_count": 51,
   "metadata": {},
   "outputs": [
    {
     "data": {
      "text/plain": [
       "19806526000"
      ]
     },
     "execution_count": 51,
     "metadata": {},
     "output_type": "execute_result"
    }
   ],
   "source": [
    "data_20_21['Amount'].sum()"
   ]
  },
  {
   "cell_type": "code",
   "execution_count": 52,
   "metadata": {},
   "outputs": [
    {
     "data": {
      "text/plain": [
       "25589908"
      ]
     },
     "execution_count": 52,
     "metadata": {},
     "output_type": "execute_result"
    }
   ],
   "source": [
    "data_18_19['Amount'].sum()"
   ]
  },
  {
   "cell_type": "code",
   "execution_count": 53,
   "metadata": {},
   "outputs": [
    {
     "data": {
      "text/plain": [
       "False    2231\n",
       "True       10\n",
       "Name: count, dtype: int64"
      ]
     },
     "execution_count": 53,
     "metadata": {},
     "output_type": "execute_result"
    }
   ],
   "source": [
    "data_20_21.duplicated().value_counts()"
   ]
  },
  {
   "cell_type": "code",
   "execution_count": 54,
   "metadata": {},
   "outputs": [],
   "source": [
    "data_20_21.drop_duplicates(keep='first',inplace=True)"
   ]
  },
  {
   "cell_type": "code",
   "execution_count": 55,
   "metadata": {},
   "outputs": [],
   "source": [
    "# merging  all the tables together\n",
    "indian_startup_csv = pd.concat([data_18_19, data_20_21], ignore_index=True)"
   ]
  },
  {
   "cell_type": "code",
   "execution_count": 56,
   "metadata": {},
   "outputs": [
    {
     "data": {
      "text/html": [
       "<div>\n",
       "<style scoped>\n",
       "    .dataframe tbody tr th:only-of-type {\n",
       "        vertical-align: middle;\n",
       "    }\n",
       "\n",
       "    .dataframe tbody tr th {\n",
       "        vertical-align: top;\n",
       "    }\n",
       "\n",
       "    .dataframe thead th {\n",
       "        text-align: right;\n",
       "    }\n",
       "</style>\n",
       "<table border=\"1\" class=\"dataframe\">\n",
       "  <thead>\n",
       "    <tr style=\"text-align: right;\">\n",
       "      <th></th>\n",
       "      <th>Company_Brand</th>\n",
       "      <th>Sector</th>\n",
       "      <th>Series</th>\n",
       "      <th>Amount</th>\n",
       "      <th>BIO</th>\n",
       "      <th>Year</th>\n",
       "      <th>HeadQuarter</th>\n",
       "      <th>Stage</th>\n",
       "      <th>Founded</th>\n",
       "      <th>Founders</th>\n",
       "      <th>Investor</th>\n",
       "      <th>Unnamed: 9</th>\n",
       "    </tr>\n",
       "  </thead>\n",
       "  <tbody>\n",
       "    <tr>\n",
       "      <th>0</th>\n",
       "      <td>TheCollegeFever</td>\n",
       "      <td>Brand Marketing, Event Promotion, Marketing, S...</td>\n",
       "      <td>Seed</td>\n",
       "      <td>3000</td>\n",
       "      <td>TheCollegeFever is a hub for fun, fiesta and f...</td>\n",
       "      <td>2018</td>\n",
       "      <td>Bangalore</td>\n",
       "      <td>NaN</td>\n",
       "      <td>NaN</td>\n",
       "      <td>NaN</td>\n",
       "      <td>NaN</td>\n",
       "      <td>NaN</td>\n",
       "    </tr>\n",
       "    <tr>\n",
       "      <th>1</th>\n",
       "      <td>Happy Cow Dairy</td>\n",
       "      <td>Agriculture, Farming</td>\n",
       "      <td>Seed</td>\n",
       "      <td>&lt;NA&gt;</td>\n",
       "      <td>A startup which aggregates milk from dairy far...</td>\n",
       "      <td>2018</td>\n",
       "      <td>Mumbai</td>\n",
       "      <td>NaN</td>\n",
       "      <td>NaN</td>\n",
       "      <td>NaN</td>\n",
       "      <td>NaN</td>\n",
       "      <td>NaN</td>\n",
       "    </tr>\n",
       "  </tbody>\n",
       "</table>\n",
       "</div>"
      ],
      "text/plain": [
       "     Company_Brand                                             Sector Series  \\\n",
       "0  TheCollegeFever  Brand Marketing, Event Promotion, Marketing, S...   Seed   \n",
       "1  Happy Cow Dairy                               Agriculture, Farming   Seed   \n",
       "\n",
       "   Amount                                                BIO  Year  \\\n",
       "0    3000  TheCollegeFever is a hub for fun, fiesta and f...  2018   \n",
       "1    <NA>  A startup which aggregates milk from dairy far...  2018   \n",
       "\n",
       "  HeadQuarter Stage Founded Founders Investor Unnamed: 9  \n",
       "0   Bangalore   NaN     NaN      NaN      NaN        NaN  \n",
       "1      Mumbai   NaN     NaN      NaN      NaN        NaN  "
      ]
     },
     "execution_count": 56,
     "metadata": {},
     "output_type": "execute_result"
    }
   ],
   "source": [
    "indian_startup_csv.head(2)"
   ]
  },
  {
   "cell_type": "code",
   "execution_count": 57,
   "metadata": {},
   "outputs": [
    {
     "data": {
      "text/plain": [
       "False    2844\n",
       "Name: count, dtype: int64"
      ]
     },
     "execution_count": 57,
     "metadata": {},
     "output_type": "execute_result"
    }
   ],
   "source": [
    "#  checking the duplicates in all the table\n",
    "indian_startup_csv.duplicated().value_counts()"
   ]
  },
  {
   "cell_type": "code",
   "execution_count": 58,
   "metadata": {},
   "outputs": [],
   "source": [
    "\n",
    "# changing the amount column from object to float\n",
    "indian_startup_csv['Amount']= pd.to_numeric(indian_startup_csv['Amount'], errors='coerce')\n",
    "\n",
    "# filling the amount column with 0\n",
    "indian_startup_csv['Amount'].fillna(0, inplace=True)"
   ]
  },
  {
   "cell_type": "code",
   "execution_count": 59,
   "metadata": {},
   "outputs": [],
   "source": [
    "# changing the amount column to int type\n",
    "indian_startup_csv['Amount'] = indian_startup_csv['Amount'].astype(int)"
   ]
  },
  {
   "cell_type": "code",
   "execution_count": 60,
   "metadata": {},
   "outputs": [
    {
     "name": "stdout",
     "output_type": "stream",
     "text": [
      "<class 'pandas.core.frame.DataFrame'>\n",
      "RangeIndex: 2844 entries, 0 to 2843\n",
      "Data columns (total 12 columns):\n",
      " #   Column         Non-Null Count  Dtype \n",
      "---  ------         --------------  ----- \n",
      " 0   Company_Brand  2844 non-null   object\n",
      " 1   Sector         2826 non-null   object\n",
      " 2   Series         524 non-null    object\n",
      " 3   Amount         2844 non-null   int32 \n",
      " 4   BIO            2844 non-null   object\n",
      " 5   Year           2844 non-null   object\n",
      " 6   HeadQuarter    2825 non-null   object\n",
      " 7   Stage          1395 non-null   object\n",
      " 8   Founded        836 non-null    object\n",
      " 9   Founders       1036 non-null   object\n",
      " 10  Investor       1010 non-null   object\n",
      " 11  Unnamed: 9     2 non-null      object\n",
      "dtypes: int32(1), object(11)\n",
      "memory usage: 255.6+ KB\n"
     ]
    }
   ],
   "source": [
    "# checking for the info\n",
    "indian_startup_csv.info()"
   ]
  },
  {
   "cell_type": "code",
   "execution_count": 61,
   "metadata": {},
   "outputs": [],
   "source": [
    "# Filling the missing value in stage column \n",
    "indian_startup_csv['Sector'].fillna('Unknown', inplace=True)"
   ]
  },
  {
   "cell_type": "code",
   "execution_count": 62,
   "metadata": {},
   "outputs": [],
   "source": [
    "# Merging some of the sector data together based on the services they lend\n",
    "indian_startup_csv.loc[indian_startup_csv['Sector'].str.contains('Finance'), 'Sector'] = 'Financial Institution'\n",
    "indian_startup_csv.loc[indian_startup_csv['Sector'].str.contains('Education'), 'Sector'] = 'Education'\n",
    "indian_startup_csv.loc[indian_startup_csv['Sector'].str.contains('Health'), 'Sector'] = 'Health Care'\n",
    "indian_startup_csv.loc[indian_startup_csv['Sector'].str.contains('Marketing'), 'Sector'] = 'Marketing Services'\n",
    "indian_startup_csv.loc[indian_startup_csv['Sector'].str.contains('Commerce'), 'Sector'] = 'E-Commerce'\n",
    "indian_startup_csv.loc[indian_startup_csv['Sector'].str.contains('Artificial'), 'Sector'] = 'Artificial intelligence'\n",
    "indian_startup_csv.loc[indian_startup_csv['Sector'].str.contains('AI'), 'Sector'] = 'Artificial intelligence'\n",
    "indian_startup_csv.loc[indian_startup_csv['Sector'].str.contains('Farming'), 'Sector'] = 'Agriculture'\n",
    "indian_startup_csv.loc[indian_startup_csv['Sector'].str.contains('Agriculture'), 'Sector'] = 'Agriculture'\n",
    "indian_startup_csv.loc[indian_startup_csv['Sector'].str.contains('Internet'), 'Sector'] = 'Internet Services'\n",
    "indian_startup_csv.loc[indian_startup_csv['Sector'].str.contains('Computer'), 'Sector'] = 'Technology'\n",
    "indian_startup_csv.loc[indian_startup_csv['Sector'].str.contains('Financial'), 'Sector'] = 'Financial Services'\n",
    "indian_startup_csv.loc[indian_startup_csv['Sector'].str.contains('Tech'), 'Sector'] = 'Technology'\n",
    "indian_startup_csv.loc[indian_startup_csv['Sector'].str.contains('Transportation'), 'Sector'] = 'Transport Services'\n",
    "indian_startup_csv.loc[indian_startup_csv['Sector'].str.contains('Software'), 'Sector'] = 'Technology'\n",
    "indian_startup_csv.loc[indian_startup_csv['Sector'].str.contains('Home'), 'Sector'] = 'Home'"
   ]
  },
  {
   "cell_type": "code",
   "execution_count": 63,
   "metadata": {},
   "outputs": [],
   "source": [
    "indian_startup_csv['Stage'].fillna('Undisclosed', inplace=True)"
   ]
  },
  {
   "cell_type": "code",
   "execution_count": 64,
   "metadata": {},
   "outputs": [],
   "source": [
    "# Grouping some of the stages together to have one common name\n",
    "indian_startup_csv.loc[indian_startup_csv['Stage'].str.contains('Series'), 'Stage'] = 'Series'\n",
    "indian_startup_csv.loc[indian_startup_csv['Stage'].str.contains('Post series'), 'Stage'] = 'Series'\n",
    "indian_startup_csv.loc[indian_startup_csv['Stage'].str.contains('Pre-series'), 'Stage'] = 'Series'\n",
    "indian_startup_csv.loc[indian_startup_csv['Stage'].str.contains('seed'), 'Stage'] = 'Seed'\n",
    "indian_startup_csv.loc[indian_startup_csv['Stage'].str.contains('Undisclose'), 'Stage'] = 'Undisclosed'\n",
    "indian_startup_csv.loc[indian_startup_csv['Stage'].str.contains('series'), 'Stage'] = 'Series'\n",
    "indian_startup_csv.loc[indian_startup_csv['Stage'].str.contains('Funding'), 'Stage'] = 'Seed'\n",
    "indian_startup_csv.loc[indian_startup_csv['Stage'].str.contains('funding'), 'Stage'] = 'Seed'\n",
    "indian_startup_csv.loc[indian_startup_csv['Stage'].str.contains('Seed'), 'Stage'] = 'Seed'\n",
    "indian_startup_csv.loc[indian_startup_csv['Stage'].str.contains('Grant'), 'Stage'] = 'Debt'\n",
    "indian_startup_csv.loc[indian_startup_csv['Stage'].str.contains('Debt'), 'Stage'] = 'Dept'\n",
    "indian_startup_csv.loc[indian_startup_csv['Stage'].str.contains('Seies'), 'Stage'] = 'Series'\n",
    "indian_startup_csv.loc[indian_startup_csv['Stage'].str.contains('0'), 'Stage'] = 'Angel'\n",
    "indian_startup_csv.loc[indian_startup_csv['Stage'].str.contains('Equity'), 'Stage'] = 'Equity'\n",
    "indian_startup_csv.loc[indian_startup_csv['Stage'].str.contains('Edge'), 'Stage'] = 'Bridge'\n",
    "indian_startup_csv.loc[indian_startup_csv['Stage'].str.contains('Bridge'), 'Stage'] = 'Bridge'\n",
    "indian_startup_csv.loc[indian_startup_csv['Stage'].str.contains('Angel'), 'Stage'] = 'Angel'\n"
   ]
  },
  {
   "cell_type": "code",
   "execution_count": 65,
   "metadata": {},
   "outputs": [
    {
     "data": {
      "text/html": [
       "<div>\n",
       "<style scoped>\n",
       "    .dataframe tbody tr th:only-of-type {\n",
       "        vertical-align: middle;\n",
       "    }\n",
       "\n",
       "    .dataframe tbody tr th {\n",
       "        vertical-align: top;\n",
       "    }\n",
       "\n",
       "    .dataframe thead th {\n",
       "        text-align: right;\n",
       "    }\n",
       "</style>\n",
       "<table border=\"1\" class=\"dataframe\">\n",
       "  <thead>\n",
       "    <tr style=\"text-align: right;\">\n",
       "      <th></th>\n",
       "      <th>Company_Brand</th>\n",
       "      <th>Sector</th>\n",
       "      <th>Series</th>\n",
       "      <th>Amount</th>\n",
       "      <th>BIO</th>\n",
       "      <th>Year</th>\n",
       "      <th>HeadQuarter</th>\n",
       "      <th>Stage</th>\n",
       "      <th>Founded</th>\n",
       "      <th>Founders</th>\n",
       "      <th>Investor</th>\n",
       "      <th>Unnamed: 9</th>\n",
       "    </tr>\n",
       "  </thead>\n",
       "  <tbody>\n",
       "    <tr>\n",
       "      <th>0</th>\n",
       "      <td>TheCollegeFever</td>\n",
       "      <td>Marketing Services</td>\n",
       "      <td>Seed</td>\n",
       "      <td>3000</td>\n",
       "      <td>TheCollegeFever is a hub for fun, fiesta and f...</td>\n",
       "      <td>2018</td>\n",
       "      <td>Bangalore</td>\n",
       "      <td>Undisclosed</td>\n",
       "      <td>NaN</td>\n",
       "      <td>NaN</td>\n",
       "      <td>NaN</td>\n",
       "      <td>NaN</td>\n",
       "    </tr>\n",
       "    <tr>\n",
       "      <th>1</th>\n",
       "      <td>Happy Cow Dairy</td>\n",
       "      <td>Agriculture</td>\n",
       "      <td>Seed</td>\n",
       "      <td>0</td>\n",
       "      <td>A startup which aggregates milk from dairy far...</td>\n",
       "      <td>2018</td>\n",
       "      <td>Mumbai</td>\n",
       "      <td>Undisclosed</td>\n",
       "      <td>NaN</td>\n",
       "      <td>NaN</td>\n",
       "      <td>NaN</td>\n",
       "      <td>NaN</td>\n",
       "    </tr>\n",
       "    <tr>\n",
       "      <th>2</th>\n",
       "      <td>MyLoanCare</td>\n",
       "      <td>Financial Services</td>\n",
       "      <td>Series A</td>\n",
       "      <td>0</td>\n",
       "      <td>Leading Online Loans Marketplace in India</td>\n",
       "      <td>2018</td>\n",
       "      <td>Gurgaon</td>\n",
       "      <td>Undisclosed</td>\n",
       "      <td>NaN</td>\n",
       "      <td>NaN</td>\n",
       "      <td>NaN</td>\n",
       "      <td>NaN</td>\n",
       "    </tr>\n",
       "    <tr>\n",
       "      <th>3</th>\n",
       "      <td>PayMe India</td>\n",
       "      <td>Financial Services</td>\n",
       "      <td>Angel</td>\n",
       "      <td>24000</td>\n",
       "      <td>PayMe India is an innovative FinTech organizat...</td>\n",
       "      <td>2018</td>\n",
       "      <td>Noida</td>\n",
       "      <td>Undisclosed</td>\n",
       "      <td>NaN</td>\n",
       "      <td>NaN</td>\n",
       "      <td>NaN</td>\n",
       "      <td>NaN</td>\n",
       "    </tr>\n",
       "    <tr>\n",
       "      <th>4</th>\n",
       "      <td>Eunimart</td>\n",
       "      <td>E-Commerce</td>\n",
       "      <td>Seed</td>\n",
       "      <td>0</td>\n",
       "      <td>Eunimart is a one stop solution for merchants ...</td>\n",
       "      <td>2018</td>\n",
       "      <td>Hyderabad</td>\n",
       "      <td>Undisclosed</td>\n",
       "      <td>NaN</td>\n",
       "      <td>NaN</td>\n",
       "      <td>NaN</td>\n",
       "      <td>NaN</td>\n",
       "    </tr>\n",
       "    <tr>\n",
       "      <th>...</th>\n",
       "      <td>...</td>\n",
       "      <td>...</td>\n",
       "      <td>...</td>\n",
       "      <td>...</td>\n",
       "      <td>...</td>\n",
       "      <td>...</td>\n",
       "      <td>...</td>\n",
       "      <td>...</td>\n",
       "      <td>...</td>\n",
       "      <td>...</td>\n",
       "      <td>...</td>\n",
       "      <td>...</td>\n",
       "    </tr>\n",
       "    <tr>\n",
       "      <th>2839</th>\n",
       "      <td>Gigforce</td>\n",
       "      <td>Staffing &amp; Recruiting</td>\n",
       "      <td>NaN</td>\n",
       "      <td>3000000</td>\n",
       "      <td>A gig/on-demand staffing company.</td>\n",
       "      <td>2021</td>\n",
       "      <td>Gurugram</td>\n",
       "      <td>Series</td>\n",
       "      <td>NaN</td>\n",
       "      <td>NaN</td>\n",
       "      <td>NaN</td>\n",
       "      <td>NaN</td>\n",
       "    </tr>\n",
       "    <tr>\n",
       "      <th>2840</th>\n",
       "      <td>Vahdam</td>\n",
       "      <td>Undisclosed</td>\n",
       "      <td>NaN</td>\n",
       "      <td>20000000</td>\n",
       "      <td>VAHDAM is among the worldâs first vertically...</td>\n",
       "      <td>2021</td>\n",
       "      <td>New Delhi</td>\n",
       "      <td>Series</td>\n",
       "      <td>NaN</td>\n",
       "      <td>NaN</td>\n",
       "      <td>NaN</td>\n",
       "      <td>NaN</td>\n",
       "    </tr>\n",
       "    <tr>\n",
       "      <th>2841</th>\n",
       "      <td>Leap Finance</td>\n",
       "      <td>Financial Services</td>\n",
       "      <td>NaN</td>\n",
       "      <td>55000000</td>\n",
       "      <td>International education loans for high potenti...</td>\n",
       "      <td>2021</td>\n",
       "      <td>Bangalore</td>\n",
       "      <td>Series</td>\n",
       "      <td>NaN</td>\n",
       "      <td>NaN</td>\n",
       "      <td>NaN</td>\n",
       "      <td>NaN</td>\n",
       "    </tr>\n",
       "    <tr>\n",
       "      <th>2842</th>\n",
       "      <td>CollegeDekho</td>\n",
       "      <td>Technology</td>\n",
       "      <td>NaN</td>\n",
       "      <td>26000000</td>\n",
       "      <td>Collegedekho.com is Studentâs Partner, Frien...</td>\n",
       "      <td>2021</td>\n",
       "      <td>Gurugram</td>\n",
       "      <td>Series</td>\n",
       "      <td>NaN</td>\n",
       "      <td>NaN</td>\n",
       "      <td>NaN</td>\n",
       "      <td>NaN</td>\n",
       "    </tr>\n",
       "    <tr>\n",
       "      <th>2843</th>\n",
       "      <td>WeRize</td>\n",
       "      <td>Financial Services</td>\n",
       "      <td>NaN</td>\n",
       "      <td>8000000</td>\n",
       "      <td>Indiaâs first socially distributed full stac...</td>\n",
       "      <td>2021</td>\n",
       "      <td>Bangalore</td>\n",
       "      <td>Series</td>\n",
       "      <td>NaN</td>\n",
       "      <td>NaN</td>\n",
       "      <td>NaN</td>\n",
       "      <td>NaN</td>\n",
       "    </tr>\n",
       "  </tbody>\n",
       "</table>\n",
       "<p>2844 rows × 12 columns</p>\n",
       "</div>"
      ],
      "text/plain": [
       "        Company_Brand                 Sector    Series    Amount  \\\n",
       "0     TheCollegeFever     Marketing Services      Seed      3000   \n",
       "1     Happy Cow Dairy            Agriculture      Seed         0   \n",
       "2          MyLoanCare     Financial Services  Series A         0   \n",
       "3         PayMe India     Financial Services     Angel     24000   \n",
       "4            Eunimart             E-Commerce      Seed         0   \n",
       "...               ...                    ...       ...       ...   \n",
       "2839         Gigforce  Staffing & Recruiting       NaN   3000000   \n",
       "2840           Vahdam            Undisclosed       NaN  20000000   \n",
       "2841     Leap Finance     Financial Services       NaN  55000000   \n",
       "2842     CollegeDekho             Technology       NaN  26000000   \n",
       "2843           WeRize     Financial Services       NaN   8000000   \n",
       "\n",
       "                                                    BIO  Year HeadQuarter  \\\n",
       "0     TheCollegeFever is a hub for fun, fiesta and f...  2018   Bangalore   \n",
       "1     A startup which aggregates milk from dairy far...  2018      Mumbai   \n",
       "2             Leading Online Loans Marketplace in India  2018     Gurgaon   \n",
       "3     PayMe India is an innovative FinTech organizat...  2018       Noida   \n",
       "4     Eunimart is a one stop solution for merchants ...  2018   Hyderabad   \n",
       "...                                                 ...   ...         ...   \n",
       "2839                  A gig/on-demand staffing company.  2021    Gurugram   \n",
       "2840  VAHDAM is among the worldâs first vertically...  2021   New Delhi   \n",
       "2841  International education loans for high potenti...  2021   Bangalore   \n",
       "2842  Collegedekho.com is Studentâs Partner, Frien...  2021    Gurugram   \n",
       "2843  Indiaâs first socially distributed full stac...  2021   Bangalore   \n",
       "\n",
       "            Stage Founded Founders Investor Unnamed: 9  \n",
       "0     Undisclosed     NaN      NaN      NaN        NaN  \n",
       "1     Undisclosed     NaN      NaN      NaN        NaN  \n",
       "2     Undisclosed     NaN      NaN      NaN        NaN  \n",
       "3     Undisclosed     NaN      NaN      NaN        NaN  \n",
       "4     Undisclosed     NaN      NaN      NaN        NaN  \n",
       "...           ...     ...      ...      ...        ...  \n",
       "2839       Series     NaN      NaN      NaN        NaN  \n",
       "2840       Series     NaN      NaN      NaN        NaN  \n",
       "2841       Series     NaN      NaN      NaN        NaN  \n",
       "2842       Series     NaN      NaN      NaN        NaN  \n",
       "2843       Series     NaN      NaN      NaN        NaN  \n",
       "\n",
       "[2844 rows x 12 columns]"
      ]
     },
     "execution_count": 65,
     "metadata": {},
     "output_type": "execute_result"
    }
   ],
   "source": [
    "indian_startup_csv[indian_startup_csv['Stage'].str.startswith('https') == False]"
   ]
  },
  {
   "cell_type": "code",
   "execution_count": 66,
   "metadata": {},
   "outputs": [
    {
     "data": {
      "text/plain": [
       "array(['Undisclosed', 'Series', 'Seed', 'Dept', 'Bridge', 'Angel', 'PE'],\n",
       "      dtype=object)"
      ]
     },
     "execution_count": 66,
     "metadata": {},
     "output_type": "execute_result"
    }
   ],
   "source": [
    "# checking for the uniqness of the stage column\n",
    "indian_startup_csv['Stage'].unique()"
   ]
  },
  {
   "cell_type": "code",
   "execution_count": 67,
   "metadata": {},
   "outputs": [
    {
     "data": {
      "text/plain": [
       "Stage\n",
       "Undisclosed    1449\n",
       "Series          857\n",
       "Seed            476\n",
       "Dept             42\n",
       "Bridge           10\n",
       "Angel             9\n",
       "PE                1\n",
       "Name: count, dtype: int64"
      ]
     },
     "execution_count": 67,
     "metadata": {},
     "output_type": "execute_result"
    }
   ],
   "source": [
    "# counting the values in stage column\n",
    "indian_startup_csv['Stage'].value_counts()"
   ]
  },
  {
   "cell_type": "markdown",
   "metadata": {},
   "source": [
    "# ANALYSIS - ANWERING ANALYTICAL QUESTIONS ON THE DATA"
   ]
  },
  {
   "cell_type": "code",
   "execution_count": 68,
   "metadata": {},
   "outputs": [
    {
     "data": {
      "text/html": [
       "<div>\n",
       "<style scoped>\n",
       "    .dataframe tbody tr th:only-of-type {\n",
       "        vertical-align: middle;\n",
       "    }\n",
       "\n",
       "    .dataframe tbody tr th {\n",
       "        vertical-align: top;\n",
       "    }\n",
       "\n",
       "    .dataframe thead th {\n",
       "        text-align: right;\n",
       "    }\n",
       "</style>\n",
       "<table border=\"1\" class=\"dataframe\">\n",
       "  <thead>\n",
       "    <tr style=\"text-align: right;\">\n",
       "      <th></th>\n",
       "      <th>Amount</th>\n",
       "    </tr>\n",
       "  </thead>\n",
       "  <tbody>\n",
       "    <tr>\n",
       "      <th>count</th>\n",
       "      <td>2.844000e+03</td>\n",
       "    </tr>\n",
       "    <tr>\n",
       "      <th>mean</th>\n",
       "      <td>6.973318e+06</td>\n",
       "    </tr>\n",
       "    <tr>\n",
       "      <th>std</th>\n",
       "      <td>3.977579e+07</td>\n",
       "    </tr>\n",
       "    <tr>\n",
       "      <th>min</th>\n",
       "      <td>0.000000e+00</td>\n",
       "    </tr>\n",
       "    <tr>\n",
       "      <th>25%</th>\n",
       "      <td>0.000000e+00</td>\n",
       "    </tr>\n",
       "    <tr>\n",
       "      <th>50%</th>\n",
       "      <td>0.000000e+00</td>\n",
       "    </tr>\n",
       "    <tr>\n",
       "      <th>75%</th>\n",
       "      <td>1.455000e+05</td>\n",
       "    </tr>\n",
       "    <tr>\n",
       "      <th>max</th>\n",
       "      <td>8.400000e+08</td>\n",
       "    </tr>\n",
       "  </tbody>\n",
       "</table>\n",
       "</div>"
      ],
      "text/plain": [
       "             Amount\n",
       "count  2.844000e+03\n",
       "mean   6.973318e+06\n",
       "std    3.977579e+07\n",
       "min    0.000000e+00\n",
       "25%    0.000000e+00\n",
       "50%    0.000000e+00\n",
       "75%    1.455000e+05\n",
       "max    8.400000e+08"
      ]
     },
     "execution_count": 68,
     "metadata": {},
     "output_type": "execute_result"
    }
   ],
   "source": [
    "indian_startup_csv.describe()"
   ]
  },
  {
   "cell_type": "markdown",
   "metadata": {},
   "source": [
    "\n",
    "# QUESTION 1\n"
   ]
  },
  {
   "cell_type": "markdown",
   "metadata": {},
   "source": [
    "Headquarter with the most populated startup"
   ]
  },
  {
   "cell_type": "code",
   "execution_count": 69,
   "metadata": {},
   "outputs": [
    {
     "name": "stdout",
     "output_type": "stream",
     "text": [
      "The most populated headquarter is Bangalore with 859 startups\n"
     ]
    }
   ],
   "source": [
    "headquarter_counts = indian_startup_csv.groupby('HeadQuarter').size()\n",
    "most_populated_headquarter = headquarter_counts.idxmax()\n",
    "count_of_most_populated = headquarter_counts.max()\n",
    "print(f'The most populated headquarter is {most_populated_headquarter} with {count_of_most_populated} startups')"
   ]
  },
  {
   "cell_type": "code",
   "execution_count": 70,
   "metadata": {},
   "outputs": [
    {
     "data": {
      "image/png": "[encoded data removed]",
      "text/plain": [
       "<Figure size 1600x600 with 1 Axes>"
      ]
     },
     "metadata": {},
     "output_type": "display_data"
    }
   ],
   "source": [
    "# Group by HeadQuarter and get the counts\n",
    "headquarter_counts = indian_startup_csv['HeadQuarter'].value_counts()\n",
    "\n",
    "# Plotting\n",
    "plt.figure(figsize=(16, 6))\n",
    "sns.barplot(x=headquarter_counts.index, y=headquarter_counts.values, palette=\"viridis\")\n",
    "plt.xticks(rotation=90)\n",
    "plt.xlabel('Headquarter')\n",
    "plt.ylabel('Number of Startups')\n",
    "plt.title('Number of Startups in Each Headquarter')\n",
    "\n",
    "# Save the plot to a file \n",
    "output_file_path = 'C:\\\\Users\\\\USER\\\\Desktop\\\\Billionaire data Set\\\\HeadQuarter_Counts_Plot.png'\n",
    "plt.savefig(output_file_path)\n",
    "plt.show()\n",
    "\n"
   ]
  },
  {
   "cell_type": "markdown",
   "metadata": {},
   "source": [
    "# Question2"
   ]
  },
  {
   "cell_type": "markdown",
   "metadata": {},
   "source": [
    "Top 10 HeadQuarter with the highest startup funding"
   ]
  },
  {
   "cell_type": "code",
   "execution_count": 71,
   "metadata": {},
   "outputs": [
    {
     "data": {
      "text/html": [
       "<div>\n",
       "<style scoped>\n",
       "    .dataframe tbody tr th:only-of-type {\n",
       "        vertical-align: middle;\n",
       "    }\n",
       "\n",
       "    .dataframe tbody tr th {\n",
       "        vertical-align: top;\n",
       "    }\n",
       "\n",
       "    .dataframe thead th {\n",
       "        text-align: right;\n",
       "    }\n",
       "</style>\n",
       "<table border=\"1\" class=\"dataframe\">\n",
       "  <thead>\n",
       "    <tr style=\"text-align: right;\">\n",
       "      <th></th>\n",
       "      <th>HeadQuarter</th>\n",
       "      <th>Amount</th>\n",
       "    </tr>\n",
       "  </thead>\n",
       "  <tbody>\n",
       "    <tr>\n",
       "      <th>8</th>\n",
       "      <td>Bangalore</td>\n",
       "      <td>9864291960</td>\n",
       "    </tr>\n",
       "    <tr>\n",
       "      <th>34</th>\n",
       "      <td>Gurugram</td>\n",
       "      <td>3622485000</td>\n",
       "    </tr>\n",
       "    <tr>\n",
       "      <th>60</th>\n",
       "      <td>Mumbai</td>\n",
       "      <td>2587724290</td>\n",
       "    </tr>\n",
       "    <tr>\n",
       "      <th>63</th>\n",
       "      <td>New Delhi</td>\n",
       "      <td>1388235000</td>\n",
       "    </tr>\n",
       "    <tr>\n",
       "      <th>75</th>\n",
       "      <td>Pune</td>\n",
       "      <td>421226800</td>\n",
       "    </tr>\n",
       "    <tr>\n",
       "      <th>19</th>\n",
       "      <td>Chennai</td>\n",
       "      <td>357966400</td>\n",
       "    </tr>\n",
       "    <tr>\n",
       "      <th>64</th>\n",
       "      <td>Noida</td>\n",
       "      <td>321963400</td>\n",
       "    </tr>\n",
       "    <tr>\n",
       "      <th>40</th>\n",
       "      <td>Jaipur</td>\n",
       "      <td>315526100</td>\n",
       "    </tr>\n",
       "    <tr>\n",
       "      <th>26</th>\n",
       "      <td>Faridabad</td>\n",
       "      <td>220000000</td>\n",
       "    </tr>\n",
       "    <tr>\n",
       "      <th>0</th>\n",
       "      <td>Ahmedabad</td>\n",
       "      <td>198803000</td>\n",
       "    </tr>\n",
       "  </tbody>\n",
       "</table>\n",
       "</div>"
      ],
      "text/plain": [
       "   HeadQuarter      Amount\n",
       "8    Bangalore  9864291960\n",
       "34    Gurugram  3622485000\n",
       "60      Mumbai  2587724290\n",
       "63   New Delhi  1388235000\n",
       "75        Pune   421226800\n",
       "19     Chennai   357966400\n",
       "64       Noida   321963400\n",
       "40      Jaipur   315526100\n",
       "26   Faridabad   220000000\n",
       "0    Ahmedabad   198803000"
      ]
     },
     "execution_count": 71,
     "metadata": {},
     "output_type": "execute_result"
    }
   ],
   "source": [
    "top_10_startup_amount = indian_startup_csv.groupby('HeadQuarter')['Amount'].sum().reset_index()\n",
    "top_10_startup_amount = top_10_startup_amount.sort_values(by='Amount', ascending=False)\n",
    "top_10_startup_amount.head(10)"
   ]
  },
  {
   "cell_type": "code",
   "execution_count": 72,
   "metadata": {},
   "outputs": [
    {
     "data": {
      "image/png": "[encoded data removed]",
      "text/plain": [
       "<Figure size 1600x600 with 1 Axes>"
      ]
     },
     "metadata": {},
     "output_type": "display_data"
    }
   ],
   "source": [
    "# Group by HeadQuarter and get the sum of amounts\n",
    "top_10_startup_amount = indian_startup_csv.groupby('HeadQuarter')['Amount'].sum().reset_index()\n",
    "top_10_startup_amount = top_10_startup_amount.sort_values(by='Amount', ascending=False).head(10)\n",
    "\n",
    "# Plotting\n",
    "plt.figure(figsize=(16, 6))\n",
    "sns.barplot(x='HeadQuarter', y='Amount', data=top_10_startup_amount, palette=\"viridis\")\n",
    "plt.xticks(rotation=45, ha='right')\n",
    "plt.xlabel('Headquarter')\n",
    "plt.ylabel('Total Amount (in USD)')\n",
    "plt.title('Top 10 HeadQuarters by Total Startup Amount')\n",
    "# Save the plot to a file \n",
    "output_file_path = 'C:\\\\Users\\\\USER\\\\Desktop\\\\Billionaire data Set\\\\Top_10_Headquarter_Counts_Plot.png'\n",
    "plt.savefig(output_file_path)\n",
    "plt.show()"
   ]
  },
  {
   "cell_type": "markdown",
   "metadata": {},
   "source": [
    "# Question 3"
   ]
  },
  {
   "cell_type": "markdown",
   "metadata": {},
   "source": [
    "Top 10 sector that recieved the highest startup funding"
   ]
  },
  {
   "cell_type": "code",
   "execution_count": 73,
   "metadata": {},
   "outputs": [
    {
     "data": {
      "text/html": [
       "<div>\n",
       "<style scoped>\n",
       "    .dataframe tbody tr th:only-of-type {\n",
       "        vertical-align: middle;\n",
       "    }\n",
       "\n",
       "    .dataframe tbody tr th {\n",
       "        vertical-align: top;\n",
       "    }\n",
       "\n",
       "    .dataframe thead th {\n",
       "        text-align: right;\n",
       "    }\n",
       "</style>\n",
       "<table border=\"1\" class=\"dataframe\">\n",
       "  <thead>\n",
       "    <tr style=\"text-align: right;\">\n",
       "      <th></th>\n",
       "      <th>Sector</th>\n",
       "      <th>Amount</th>\n",
       "    </tr>\n",
       "  </thead>\n",
       "  <tbody>\n",
       "    <tr>\n",
       "      <th>490</th>\n",
       "      <td>Technology</td>\n",
       "      <td>2488354460</td>\n",
       "    </tr>\n",
       "    <tr>\n",
       "      <th>246</th>\n",
       "      <td>Financial Services</td>\n",
       "      <td>2055925200</td>\n",
       "    </tr>\n",
       "    <tr>\n",
       "      <th>36</th>\n",
       "      <td>Automotive</td>\n",
       "      <td>1895600000</td>\n",
       "    </tr>\n",
       "    <tr>\n",
       "      <th>511</th>\n",
       "      <td>Undisclosed</td>\n",
       "      <td>1171760000</td>\n",
       "    </tr>\n",
       "    <tr>\n",
       "      <th>299</th>\n",
       "      <td>Health Care</td>\n",
       "      <td>1036776140</td>\n",
       "    </tr>\n",
       "    <tr>\n",
       "      <th>482</th>\n",
       "      <td>Sports</td>\n",
       "      <td>842000000</td>\n",
       "    </tr>\n",
       "    <tr>\n",
       "      <th>469</th>\n",
       "      <td>Social commerce</td>\n",
       "      <td>717900000</td>\n",
       "    </tr>\n",
       "    <tr>\n",
       "      <th>304</th>\n",
       "      <td>Hospitality</td>\n",
       "      <td>687200000</td>\n",
       "    </tr>\n",
       "    <tr>\n",
       "      <th>387</th>\n",
       "      <td>Mobility</td>\n",
       "      <td>637840000</td>\n",
       "    </tr>\n",
       "    <tr>\n",
       "      <th>371</th>\n",
       "      <td>Mechanical Or Industrial Engineering</td>\n",
       "      <td>600400000</td>\n",
       "    </tr>\n",
       "  </tbody>\n",
       "</table>\n",
       "</div>"
      ],
      "text/plain": [
       "                                   Sector      Amount\n",
       "490                            Technology  2488354460\n",
       "246                    Financial Services  2055925200\n",
       "36                             Automotive  1895600000\n",
       "511                           Undisclosed  1171760000\n",
       "299                           Health Care  1036776140\n",
       "482                                Sports   842000000\n",
       "469                       Social commerce   717900000\n",
       "304                           Hospitality   687200000\n",
       "387                              Mobility   637840000\n",
       "371  Mechanical Or Industrial Engineering   600400000"
      ]
     },
     "execution_count": 73,
     "metadata": {},
     "output_type": "execute_result"
    }
   ],
   "source": [
    "# Group by Sector and get the sum of amounts\n",
    "top_10_sector_amount = indian_startup_csv.groupby('Sector')['Amount'].sum().reset_index()\n",
    "top_10_sector_amount = top_10_sector_amount.sort_values(by='Amount', ascending=False).head(10)\n",
    "top_10_sector_amount.head(10)\n"
   ]
  },
  {
   "cell_type": "code",
   "execution_count": 74,
   "metadata": {},
   "outputs": [
    {
     "data": {
      "image/png": "[encoded data removed]",
      "text/plain": [
       "<Figure size 1600x600 with 1 Axes>"
      ]
     },
     "metadata": {},
     "output_type": "display_data"
    }
   ],
   "source": [
    "# Plotting\n",
    "plt.figure(figsize=(16, 6))\n",
    "sns.barplot(x='Amount', y='Sector', data=top_10_sector_amount, palette=\"viridis\")\n",
    "plt.xlabel('Total Amount (in USD)')\n",
    "plt.ylabel('Sector')\n",
    "plt.title('Top 10 Sectors by Total Startup Funding')\n",
    "# Save the plot to a file \n",
    "output_file_path = 'C:\\\\Users\\\\USER\\\\Desktop\\\\Billionaire data Set\\\\Top_10_Sectors_Plot.png'\n",
    "plt.savefig(output_file_path)\n",
    "plt.show()"
   ]
  },
  {
   "cell_type": "markdown",
   "metadata": {},
   "source": [
    "# Question 4"
   ]
  },
  {
   "cell_type": "markdown",
   "metadata": {},
   "source": [
    "<b>Which year recieved the most startup funding<b>"
   ]
  },
  {
   "cell_type": "code",
   "execution_count": 75,
   "metadata": {},
   "outputs": [
    {
     "data": {
      "text/html": [
       "<div>\n",
       "<style scoped>\n",
       "    .dataframe tbody tr th:only-of-type {\n",
       "        vertical-align: middle;\n",
       "    }\n",
       "\n",
       "    .dataframe tbody tr th {\n",
       "        vertical-align: top;\n",
       "    }\n",
       "\n",
       "    .dataframe thead th {\n",
       "        text-align: right;\n",
       "    }\n",
       "</style>\n",
       "<table border=\"1\" class=\"dataframe\">\n",
       "  <thead>\n",
       "    <tr style=\"text-align: right;\">\n",
       "      <th></th>\n",
       "      <th>Year</th>\n",
       "      <th>Amount</th>\n",
       "    </tr>\n",
       "  </thead>\n",
       "  <tbody>\n",
       "    <tr>\n",
       "      <th>0</th>\n",
       "      <td>2018</td>\n",
       "      <td>25589908</td>\n",
       "    </tr>\n",
       "    <tr>\n",
       "      <th>1</th>\n",
       "      <td>2019</td>\n",
       "      <td>0</td>\n",
       "    </tr>\n",
       "    <tr>\n",
       "      <th>2</th>\n",
       "      <td>2020</td>\n",
       "      <td>0</td>\n",
       "    </tr>\n",
       "    <tr>\n",
       "      <th>3</th>\n",
       "      <td>2021</td>\n",
       "      <td>19806526000</td>\n",
       "    </tr>\n",
       "  </tbody>\n",
       "</table>\n",
       "</div>"
      ],
      "text/plain": [
       "   Year       Amount\n",
       "0  2018     25589908\n",
       "1  2019            0\n",
       "2  2020            0\n",
       "3  2021  19806526000"
      ]
     },
     "execution_count": 75,
     "metadata": {},
     "output_type": "execute_result"
    }
   ],
   "source": [
    "# Group by Year and get the sum of amounts\n",
    "yearly_funding = indian_startup_csv.groupby('Year')['Amount'].sum().reset_index()\n",
    "year_startup_funding=yearly_funding.sort_values(by='Amount', ascending=False)\n",
    "yearly_funding.head(10)"
   ]
  },
  {
   "cell_type": "code",
   "execution_count": 76,
   "metadata": {},
   "outputs": [
    {
     "data": {
      "text/plain": [
       "ï»¿Company/Brand    object\n",
       "HeadQuarter         object\n",
       "Sector              object\n",
       "BIO                 object\n",
       "Amount              object\n",
       "Stage               object\n",
       "Year                object\n",
       "dtype: object"
      ]
     },
     "execution_count": 76,
     "metadata": {},
     "output_type": "execute_result"
    }
   ],
   "source": [
    "data_2019.dtypes"
   ]
  },
  {
   "cell_type": "code",
   "execution_count": 77,
   "metadata": {},
   "outputs": [
    {
     "data": {
      "image/png": "[encoded data removed]",
      "text/plain": [
       "<Figure size 1600x600 with 1 Axes>"
      ]
     },
     "metadata": {},
     "output_type": "display_data"
    }
   ],
   "source": [
    "# Plotting\n",
    "plt.figure(figsize=(16, 6))\n",
    "sns.barplot(x='Year', y='Amount', data=yearly_funding, palette=\"muted\")\n",
    "plt.xlabel('Year')\n",
    "plt.ylabel('Total Amount (in USD)')\n",
    "plt.title('Total Startup Funding by Year')\n",
    "# Save the plot to a file \n",
    "output_file_path = 'C:\\\\Users\\\\USER\\\\Desktop\\\\Billionaire data Set\\\\Total_Startup_Funding_Plot.png'\n",
    "plt.savefig(output_file_path)\n",
    "plt.show()"
   ]
  },
  {
   "cell_type": "markdown",
   "metadata": {},
   "source": [
    "# Question 5"
   ]
  },
  {
   "cell_type": "markdown",
   "metadata": {},
   "source": [
    "What is the funding trend in the Indian start-up ecosystem over the past few years"
   ]
  },
  {
   "cell_type": "code",
   "execution_count": 78,
   "metadata": {},
   "outputs": [
    {
     "data": {
      "text/html": [
       "<div>\n",
       "<style scoped>\n",
       "    .dataframe tbody tr th:only-of-type {\n",
       "        vertical-align: middle;\n",
       "    }\n",
       "\n",
       "    .dataframe tbody tr th {\n",
       "        vertical-align: top;\n",
       "    }\n",
       "\n",
       "    .dataframe thead th {\n",
       "        text-align: right;\n",
       "    }\n",
       "</style>\n",
       "<table border=\"1\" class=\"dataframe\">\n",
       "  <thead>\n",
       "    <tr style=\"text-align: right;\">\n",
       "      <th></th>\n",
       "      <th>Year</th>\n",
       "      <th>Amount</th>\n",
       "    </tr>\n",
       "  </thead>\n",
       "  <tbody>\n",
       "    <tr>\n",
       "      <th>0</th>\n",
       "      <td>2018</td>\n",
       "      <td>25589908</td>\n",
       "    </tr>\n",
       "    <tr>\n",
       "      <th>1</th>\n",
       "      <td>2019</td>\n",
       "      <td>0</td>\n",
       "    </tr>\n",
       "    <tr>\n",
       "      <th>2</th>\n",
       "      <td>2020</td>\n",
       "      <td>0</td>\n",
       "    </tr>\n",
       "    <tr>\n",
       "      <th>3</th>\n",
       "      <td>2021</td>\n",
       "      <td>19806526000</td>\n",
       "    </tr>\n",
       "  </tbody>\n",
       "</table>\n",
       "</div>"
      ],
      "text/plain": [
       "   Year       Amount\n",
       "0  2018     25589908\n",
       "1  2019            0\n",
       "2  2020            0\n",
       "3  2021  19806526000"
      ]
     },
     "execution_count": 78,
     "metadata": {},
     "output_type": "execute_result"
    }
   ],
   "source": [
    "# Group by Year and get the sum of amounts\n",
    "yearly_funding = indian_startup_csv.groupby('Year')['Amount'].sum().reset_index()\n",
    "year_startup_funding=yearly_funding.sort_values(by='Amount', ascending=False)\n",
    "yearly_funding.head(10)\n"
   ]
  },
  {
   "cell_type": "code",
   "execution_count": 79,
   "metadata": {},
   "outputs": [
    {
     "data": {
      "image/png": "[encoded data removed]",
      "text/plain": [
       "<Figure size 1600x600 with 1 Axes>"
      ]
     },
     "metadata": {},
     "output_type": "display_data"
    }
   ],
   "source": [
    "# Plotting a line plot\n",
    "plt.figure(figsize=(16, 6))\n",
    "sns.lineplot(x='Year', y='Amount', data=yearly_funding, marker='o', color='b')\n",
    "plt.xlabel('Year')\n",
    "plt.ylabel('Total Funding Amount (in USD)')\n",
    "plt.title('Funding Trend in Indian Startups Over the Years')\n",
    "plt.grid(True)\n",
    "# Save the plot to a file \n",
    "output_file_path = 'C:\\\\Users\\\\USER\\\\Desktop\\\\Billionaire data Set\\\\Funding_Trend_Plot.png'\n",
    "plt.savefig(output_file_path)\n",
    "plt.show()"
   ]
  }
 ],
 "metadata": {
  "kernelspec": {
   "display_name": "Python 3",
   "language": "python",
   "name": "python3"
  },
  "language_info": {
   "codemirror_mode": {
    "name": "ipython",
    "version": 3
   },
   "file_extension": ".py",
   "mimetype": "text/x-python",
   "name": "python",
   "nbconvert_exporter": "python",
   "pygments_lexer": "ipython3",
   "version": "3.10.9"
  }
 },
 "nbformat": 4,
 "nbformat_minor": 2
}
